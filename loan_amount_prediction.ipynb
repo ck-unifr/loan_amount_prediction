{
 "cells": [
  {
   "cell_type": "markdown",
   "metadata": {},
   "source": [
    "**Calculating credit worthiness for rural India**\n"
   ]
  },
  {
   "cell_type": "markdown",
   "metadata": {
    "toc": true
   },
   "source": [
    "<h1>Table of Contents<span class=\"tocSkip\"></span></h1>\n",
    "<div class=\"toc\"><ul class=\"toc-item\"><li><span><a href=\"#Introduction\" data-toc-modified-id=\"Introduction-1\"><span class=\"toc-item-num\">1&nbsp;&nbsp;</span>Introduction</a></span><ul class=\"toc-item\"><li><span><a href=\"#Context\" data-toc-modified-id=\"Context-1.1\"><span class=\"toc-item-num\">1.1&nbsp;&nbsp;</span>Context</a></span></li><li><span><a href=\"#Description-of-variables:\" data-toc-modified-id=\"Description-of-variables:-1.2\"><span class=\"toc-item-num\">1.2&nbsp;&nbsp;</span>Description of variables:</a></span></li><li><span><a href=\"#Further-Questions:\" data-toc-modified-id=\"Further-Questions:-1.3\"><span class=\"toc-item-num\">1.3&nbsp;&nbsp;</span>Further Questions:</a></span></li></ul></li><li><span><a href=\"#Data\" data-toc-modified-id=\"Data-2\"><span class=\"toc-item-num\">2&nbsp;&nbsp;</span>Data</a></span></li><li><span><a href=\"#Exploratory-Data-Analysis-(EDA)\" data-toc-modified-id=\"Exploratory-Data-Analysis-(EDA)-3\"><span class=\"toc-item-num\">3&nbsp;&nbsp;</span>Exploratory Data Analysis (EDA)</a></span><ul class=\"toc-item\"><li><span><a href=\"#Target\" data-toc-modified-id=\"Target-3.1\"><span class=\"toc-item-num\">3.1&nbsp;&nbsp;</span>Target</a></span></li><li><span><a href=\"#Numerical-Variables\" data-toc-modified-id=\"Numerical-Variables-3.2\"><span class=\"toc-item-num\">3.2&nbsp;&nbsp;</span>Numerical Variables</a></span><ul class=\"toc-item\"><li><span><a href=\"#Distplot\" data-toc-modified-id=\"Distplot-3.2.1\"><span class=\"toc-item-num\">3.2.1&nbsp;&nbsp;</span>Distplot</a></span></li><li><span><a href=\"#Boxplot\" data-toc-modified-id=\"Boxplot-3.2.2\"><span class=\"toc-item-num\">3.2.2&nbsp;&nbsp;</span>Boxplot</a></span></li><li><span><a href=\"#Quantile\" data-toc-modified-id=\"Quantile-3.2.3\"><span class=\"toc-item-num\">3.2.3&nbsp;&nbsp;</span>Quantile</a></span></li></ul></li><li><span><a href=\"#Categorical-variables\" data-toc-modified-id=\"Categorical-variables-3.3\"><span class=\"toc-item-num\">3.3&nbsp;&nbsp;</span>Categorical variables</a></span><ul class=\"toc-item\"><li><span><a href=\"#city\" data-toc-modified-id=\"city-3.3.1\"><span class=\"toc-item-num\">3.3.1&nbsp;&nbsp;</span>city</a></span></li><li><span><a href=\"#sex\" data-toc-modified-id=\"sex-3.3.2\"><span class=\"toc-item-num\">3.3.2&nbsp;&nbsp;</span>sex</a></span></li><li><span><a href=\"#social_class\" data-toc-modified-id=\"social_class-3.3.3\"><span class=\"toc-item-num\">3.3.3&nbsp;&nbsp;</span>social_class</a></span></li><li><span><a href=\"#primary_business\" data-toc-modified-id=\"primary_business-3.3.4\"><span class=\"toc-item-num\">3.3.4&nbsp;&nbsp;</span>primary_business</a></span></li><li><span><a href=\"#secondary_business\" data-toc-modified-id=\"secondary_business-3.3.5\"><span class=\"toc-item-num\">3.3.5&nbsp;&nbsp;</span>secondary_business</a></span></li><li><span><a href=\"#type_of_house\" data-toc-modified-id=\"type_of_house-3.3.6\"><span class=\"toc-item-num\">3.3.6&nbsp;&nbsp;</span>type_of_house</a></span></li><li><span><a href=\"#loan_purpose\" data-toc-modified-id=\"loan_purpose-3.3.7\"><span class=\"toc-item-num\">3.3.7&nbsp;&nbsp;</span>loan_purpose</a></span></li></ul></li><li><span><a href=\"#Correlation\" data-toc-modified-id=\"Correlation-3.4\"><span class=\"toc-item-num\">3.4&nbsp;&nbsp;</span>Correlation</a></span></li></ul></li><li><span><a href=\"#Data-Preprocessing\" data-toc-modified-id=\"Data-Preprocessing-4\"><span class=\"toc-item-num\">4&nbsp;&nbsp;</span>Data Preprocessing</a></span><ul class=\"toc-item\"><li><span><a href=\"#Outliers\" data-toc-modified-id=\"Outliers-4.1\"><span class=\"toc-item-num\">4.1&nbsp;&nbsp;</span>Outliers</a></span></li><li><span><a href=\"#Missing-values\" data-toc-modified-id=\"Missing-values-4.2\"><span class=\"toc-item-num\">4.2&nbsp;&nbsp;</span>Missing values</a></span></li></ul></li></ul></div>"
   ]
  },
  {
   "cell_type": "markdown",
   "metadata": {},
   "source": [
    "# Introduction\n",
    "\n",
    "\n",
    "## Context\n",
    "\n",
    "In the banking industry, loan applications are generally approved after a thorough background check of the customer's repayment capabilities. Credit Score plays a significant role in identifying customer's financial behavior (specifically default). However, people belonging to rural India don't have credit scores and it is difficult to do a direct assessment.\n",
    "\n",
    "The accompanying file trainingData.csv contains some of the information that is collected for loan applications of rural customers. We want to identify the maximum repayment capability of customers in order to predict an optimal loan amount.\n",
    "\n",
    "\n",
    "## Description of variables:\n",
    "\n",
    "- Id: Primary Key\n",
    "\n",
    "- Personal Details: city, age, sex, social_class\n",
    "\n",
    "- Financial Details: primary_business, secondary_business, annual_income, monthly_expenses, old_dependents, young_dependents\n",
    "\n",
    "- House Details: home_ownership, type_of_house, occupants_count, house_area, sanitary_availability, water_availability\n",
    "\n",
    "- Loan Details: loan_purpose, loan_tenure, loan_installments, loan_amount (these contain loan details of loans that have been previously given, and which have been repaid)\n",
    "\n",
    "\n",
    "## Further Questions:\n",
    "\n",
    "- Which variables are good predictors? which variables don't contribute to your model? how do you know?\n",
    "\n",
    "- A key stakeholder wants to use \"loan_purpose\" as a predictor. If it is not already a significant contributor, can we still modify the model to include it?\n",
    "\n",
    "- What other variables would you like to see in the data?\n",
    "- How will you measure the fitness of the model? Which metrics (accuracy, recall, etc.) are most relevant?\n"
   ]
  },
  {
   "cell_type": "code",
   "execution_count": null,
   "metadata": {},
   "outputs": [],
   "source": []
  },
  {
   "cell_type": "markdown",
   "metadata": {},
   "source": [
    "# Data\n"
   ]
  },
  {
   "cell_type": "code",
   "execution_count": 2,
   "metadata": {},
   "outputs": [],
   "source": [
    "import pandas as pd\n",
    "import matplotlib.pyplot as plt\n",
    "import seaborn as sns\n",
    "import numpy as np\n",
    "\n",
    "import warnings\n",
    "warnings.filterwarnings('ignore')\n",
    "%matplotlib inline\n"
   ]
  },
  {
   "cell_type": "code",
   "execution_count": 3,
   "metadata": {},
   "outputs": [],
   "source": [
    "df = pd.read_csv('trainingData.csv')\n"
   ]
  },
  {
   "cell_type": "code",
   "execution_count": 4,
   "metadata": {},
   "outputs": [
    {
     "data": {
      "text/plain": [
       "Index(['Id', 'city', 'age', 'sex', 'social_class', 'primary_business',\n",
       "       'secondary_business', 'annual_income', 'monthly_expenses',\n",
       "       'old_dependents', 'young_dependents', 'home_ownership', 'type_of_house',\n",
       "       'occupants_count', 'house_area', 'sanitary_availability',\n",
       "       'water_availabity', 'loan_purpose', 'loan_tenure', 'loan_installments',\n",
       "       'loan_amount'],\n",
       "      dtype='object')"
      ]
     },
     "execution_count": 4,
     "metadata": {},
     "output_type": "execute_result"
    }
   ],
   "source": [
    "df.columns"
   ]
  },
  {
   "cell_type": "code",
   "execution_count": 5,
   "metadata": {},
   "outputs": [
    {
     "data": {
      "text/plain": [
       "(40000, 21)"
      ]
     },
     "execution_count": 5,
     "metadata": {},
     "output_type": "execute_result"
    }
   ],
   "source": [
    "df.shape"
   ]
  },
  {
   "cell_type": "code",
   "execution_count": 6,
   "metadata": {},
   "outputs": [
    {
     "name": "stdout",
     "output_type": "stream",
     "text": [
      "<class 'pandas.core.frame.DataFrame'>\n",
      "RangeIndex: 40000 entries, 0 to 39999\n",
      "Data columns (total 21 columns):\n",
      " #   Column                 Non-Null Count  Dtype  \n",
      "---  ------                 --------------  -----  \n",
      " 0   Id                     40000 non-null  int64  \n",
      " 1   city                   38136 non-null  object \n",
      " 2   age                    40000 non-null  int64  \n",
      " 3   sex                    40000 non-null  object \n",
      " 4   social_class           34745 non-null  object \n",
      " 5   primary_business       39974 non-null  object \n",
      " 6   secondary_business     34759 non-null  object \n",
      " 7   annual_income          40000 non-null  float64\n",
      " 8   monthly_expenses       39880 non-null  float64\n",
      " 9   old_dependents         40000 non-null  int64  \n",
      " 10  young_dependents       40000 non-null  int64  \n",
      " 11  home_ownership         39621 non-null  float64\n",
      " 12  type_of_house          39306 non-null  object \n",
      " 13  occupants_count        40000 non-null  int64  \n",
      " 14  house_area             40000 non-null  float64\n",
      " 15  sanitary_availability  39792 non-null  float64\n",
      " 16  water_availabity       34747 non-null  float64\n",
      " 17  loan_purpose           39974 non-null  object \n",
      " 18  loan_tenure            40000 non-null  int64  \n",
      " 19  loan_installments      40000 non-null  int64  \n",
      " 20  loan_amount            40000 non-null  float64\n",
      "dtypes: float64(7), int64(7), object(7)\n",
      "memory usage: 6.4+ MB\n"
     ]
    }
   ],
   "source": [
    "df.info()"
   ]
  },
  {
   "cell_type": "code",
   "execution_count": 7,
   "metadata": {},
   "outputs": [
    {
     "data": {
      "text/html": [
       "<div>\n",
       "<style scoped>\n",
       "    .dataframe tbody tr th:only-of-type {\n",
       "        vertical-align: middle;\n",
       "    }\n",
       "\n",
       "    .dataframe tbody tr th {\n",
       "        vertical-align: top;\n",
       "    }\n",
       "\n",
       "    .dataframe thead th {\n",
       "        text-align: right;\n",
       "    }\n",
       "</style>\n",
       "<table border=\"1\" class=\"dataframe\">\n",
       "  <thead>\n",
       "    <tr style=\"text-align: right;\">\n",
       "      <th></th>\n",
       "      <th>Id</th>\n",
       "      <th>city</th>\n",
       "      <th>age</th>\n",
       "      <th>sex</th>\n",
       "      <th>social_class</th>\n",
       "      <th>primary_business</th>\n",
       "      <th>secondary_business</th>\n",
       "      <th>annual_income</th>\n",
       "      <th>monthly_expenses</th>\n",
       "      <th>old_dependents</th>\n",
       "      <th>...</th>\n",
       "      <th>home_ownership</th>\n",
       "      <th>type_of_house</th>\n",
       "      <th>occupants_count</th>\n",
       "      <th>house_area</th>\n",
       "      <th>sanitary_availability</th>\n",
       "      <th>water_availabity</th>\n",
       "      <th>loan_purpose</th>\n",
       "      <th>loan_tenure</th>\n",
       "      <th>loan_installments</th>\n",
       "      <th>loan_amount</th>\n",
       "    </tr>\n",
       "  </thead>\n",
       "  <tbody>\n",
       "    <tr>\n",
       "      <th>0</th>\n",
       "      <td>1</td>\n",
       "      <td>Dhanbad</td>\n",
       "      <td>22</td>\n",
       "      <td>F</td>\n",
       "      <td>Mochi</td>\n",
       "      <td>Tailoring</td>\n",
       "      <td>Others</td>\n",
       "      <td>36000.0</td>\n",
       "      <td>5000.0</td>\n",
       "      <td>0</td>\n",
       "      <td>...</td>\n",
       "      <td>1.0</td>\n",
       "      <td>R</td>\n",
       "      <td>4</td>\n",
       "      <td>70.0</td>\n",
       "      <td>1.0</td>\n",
       "      <td>0.5</td>\n",
       "      <td>Apparels</td>\n",
       "      <td>12</td>\n",
       "      <td>12</td>\n",
       "      <td>5000.0</td>\n",
       "    </tr>\n",
       "    <tr>\n",
       "      <th>1</th>\n",
       "      <td>2</td>\n",
       "      <td>Manjapra</td>\n",
       "      <td>21</td>\n",
       "      <td>F</td>\n",
       "      <td>OBC</td>\n",
       "      <td>Tailoring</td>\n",
       "      <td>none</td>\n",
       "      <td>94000.0</td>\n",
       "      <td>3600.0</td>\n",
       "      <td>1</td>\n",
       "      <td>...</td>\n",
       "      <td>1.0</td>\n",
       "      <td>T1</td>\n",
       "      <td>4</td>\n",
       "      <td>80.0</td>\n",
       "      <td>1.0</td>\n",
       "      <td>0.5</td>\n",
       "      <td>Apparels</td>\n",
       "      <td>12</td>\n",
       "      <td>50</td>\n",
       "      <td>7500.0</td>\n",
       "    </tr>\n",
       "    <tr>\n",
       "      <th>2</th>\n",
       "      <td>3</td>\n",
       "      <td>Dhanbad</td>\n",
       "      <td>24</td>\n",
       "      <td>M</td>\n",
       "      <td>Nai</td>\n",
       "      <td>Beauty salon</td>\n",
       "      <td>Others</td>\n",
       "      <td>48000.0</td>\n",
       "      <td>4000.0</td>\n",
       "      <td>0</td>\n",
       "      <td>...</td>\n",
       "      <td>1.0</td>\n",
       "      <td>T1</td>\n",
       "      <td>4</td>\n",
       "      <td>50.0</td>\n",
       "      <td>1.0</td>\n",
       "      <td>0.5</td>\n",
       "      <td>Beauty Salon</td>\n",
       "      <td>12</td>\n",
       "      <td>12</td>\n",
       "      <td>5000.0</td>\n",
       "    </tr>\n",
       "    <tr>\n",
       "      <th>3</th>\n",
       "      <td>4</td>\n",
       "      <td>NaN</td>\n",
       "      <td>26</td>\n",
       "      <td>F</td>\n",
       "      <td>OBC</td>\n",
       "      <td>Tailoring</td>\n",
       "      <td>none</td>\n",
       "      <td>7000.0</td>\n",
       "      <td>5000.0</td>\n",
       "      <td>0</td>\n",
       "      <td>...</td>\n",
       "      <td>1.0</td>\n",
       "      <td>T1</td>\n",
       "      <td>5</td>\n",
       "      <td>50.0</td>\n",
       "      <td>1.0</td>\n",
       "      <td>0.5</td>\n",
       "      <td>Apparels</td>\n",
       "      <td>12</td>\n",
       "      <td>50</td>\n",
       "      <td>7500.0</td>\n",
       "    </tr>\n",
       "    <tr>\n",
       "      <th>4</th>\n",
       "      <td>5</td>\n",
       "      <td>Nuapada</td>\n",
       "      <td>23</td>\n",
       "      <td>F</td>\n",
       "      <td>OBC</td>\n",
       "      <td>General store</td>\n",
       "      <td>Agriculture</td>\n",
       "      <td>36000.0</td>\n",
       "      <td>3500.0</td>\n",
       "      <td>0</td>\n",
       "      <td>...</td>\n",
       "      <td>1.0</td>\n",
       "      <td>T1</td>\n",
       "      <td>1</td>\n",
       "      <td>112.0</td>\n",
       "      <td>1.0</td>\n",
       "      <td>0.5</td>\n",
       "      <td>Retail Store</td>\n",
       "      <td>12</td>\n",
       "      <td>12</td>\n",
       "      <td>5000.0</td>\n",
       "    </tr>\n",
       "  </tbody>\n",
       "</table>\n",
       "<p>5 rows × 21 columns</p>\n",
       "</div>"
      ],
      "text/plain": [
       "   Id      city  age sex social_class primary_business secondary_business  \\\n",
       "0   1   Dhanbad   22   F        Mochi        Tailoring             Others   \n",
       "1   2  Manjapra   21   F          OBC        Tailoring               none   \n",
       "2   3   Dhanbad   24   M          Nai     Beauty salon             Others   \n",
       "3   4       NaN   26   F          OBC        Tailoring               none   \n",
       "4   5   Nuapada   23   F          OBC    General store        Agriculture   \n",
       "\n",
       "   annual_income  monthly_expenses  old_dependents  ...  home_ownership  \\\n",
       "0        36000.0            5000.0               0  ...             1.0   \n",
       "1        94000.0            3600.0               1  ...             1.0   \n",
       "2        48000.0            4000.0               0  ...             1.0   \n",
       "3         7000.0            5000.0               0  ...             1.0   \n",
       "4        36000.0            3500.0               0  ...             1.0   \n",
       "\n",
       "   type_of_house occupants_count  house_area  sanitary_availability  \\\n",
       "0              R               4        70.0                    1.0   \n",
       "1             T1               4        80.0                    1.0   \n",
       "2             T1               4        50.0                    1.0   \n",
       "3             T1               5        50.0                    1.0   \n",
       "4             T1               1       112.0                    1.0   \n",
       "\n",
       "   water_availabity  loan_purpose loan_tenure  loan_installments  loan_amount  \n",
       "0               0.5      Apparels          12                 12       5000.0  \n",
       "1               0.5      Apparels          12                 50       7500.0  \n",
       "2               0.5  Beauty Salon          12                 12       5000.0  \n",
       "3               0.5      Apparels          12                 50       7500.0  \n",
       "4               0.5  Retail Store          12                 12       5000.0  \n",
       "\n",
       "[5 rows x 21 columns]"
      ]
     },
     "execution_count": 7,
     "metadata": {},
     "output_type": "execute_result"
    }
   ],
   "source": [
    "df.head()\n"
   ]
  },
  {
   "cell_type": "code",
   "execution_count": 8,
   "metadata": {},
   "outputs": [
    {
     "data": {
      "text/html": [
       "<div>\n",
       "<style scoped>\n",
       "    .dataframe tbody tr th:only-of-type {\n",
       "        vertical-align: middle;\n",
       "    }\n",
       "\n",
       "    .dataframe tbody tr th {\n",
       "        vertical-align: top;\n",
       "    }\n",
       "\n",
       "    .dataframe thead th {\n",
       "        text-align: right;\n",
       "    }\n",
       "</style>\n",
       "<table border=\"1\" class=\"dataframe\">\n",
       "  <thead>\n",
       "    <tr style=\"text-align: right;\">\n",
       "      <th></th>\n",
       "      <th>Id</th>\n",
       "      <th>age</th>\n",
       "      <th>annual_income</th>\n",
       "      <th>monthly_expenses</th>\n",
       "      <th>old_dependents</th>\n",
       "      <th>young_dependents</th>\n",
       "      <th>home_ownership</th>\n",
       "      <th>occupants_count</th>\n",
       "      <th>house_area</th>\n",
       "      <th>sanitary_availability</th>\n",
       "      <th>water_availabity</th>\n",
       "      <th>loan_tenure</th>\n",
       "      <th>loan_installments</th>\n",
       "      <th>loan_amount</th>\n",
       "    </tr>\n",
       "  </thead>\n",
       "  <tbody>\n",
       "    <tr>\n",
       "      <th>count</th>\n",
       "      <td>40000.00000</td>\n",
       "      <td>40000.00000</td>\n",
       "      <td>4.000000e+04</td>\n",
       "      <td>39880.000000</td>\n",
       "      <td>40000.000000</td>\n",
       "      <td>40000.00000</td>\n",
       "      <td>39621.000000</td>\n",
       "      <td>40000.000000</td>\n",
       "      <td>40000.000000</td>\n",
       "      <td>39792.000000</td>\n",
       "      <td>34747.000000</td>\n",
       "      <td>40000.000000</td>\n",
       "      <td>40000.000000</td>\n",
       "      <td>4.000000e+04</td>\n",
       "    </tr>\n",
       "    <tr>\n",
       "      <th>mean</th>\n",
       "      <td>20000.50000</td>\n",
       "      <td>55.15990</td>\n",
       "      <td>3.764021e+04</td>\n",
       "      <td>3810.875401</td>\n",
       "      <td>0.044900</td>\n",
       "      <td>1.13710</td>\n",
       "      <td>0.972489</td>\n",
       "      <td>26.641000</td>\n",
       "      <td>552.804750</td>\n",
       "      <td>0.686369</td>\n",
       "      <td>0.753216</td>\n",
       "      <td>12.032225</td>\n",
       "      <td>21.761175</td>\n",
       "      <td>8.412593e+03</td>\n",
       "    </tr>\n",
       "    <tr>\n",
       "      <th>std</th>\n",
       "      <td>11547.14972</td>\n",
       "      <td>3830.35566</td>\n",
       "      <td>2.873912e+04</td>\n",
       "      <td>4592.958009</td>\n",
       "      <td>0.222003</td>\n",
       "      <td>1.07384</td>\n",
       "      <td>0.163568</td>\n",
       "      <td>4749.995485</td>\n",
       "      <td>4596.921905</td>\n",
       "      <td>0.464028</td>\n",
       "      <td>0.255337</td>\n",
       "      <td>1.367473</td>\n",
       "      <td>16.682458</td>\n",
       "      <td>1.359694e+04</td>\n",
       "    </tr>\n",
       "    <tr>\n",
       "      <th>min</th>\n",
       "      <td>1.00000</td>\n",
       "      <td>2.00000</td>\n",
       "      <td>0.000000e+00</td>\n",
       "      <td>2.000000</td>\n",
       "      <td>0.000000</td>\n",
       "      <td>0.00000</td>\n",
       "      <td>0.000000</td>\n",
       "      <td>0.000000</td>\n",
       "      <td>0.000000</td>\n",
       "      <td>-1.000000</td>\n",
       "      <td>-1.000000</td>\n",
       "      <td>3.000000</td>\n",
       "      <td>0.000000</td>\n",
       "      <td>1.000000e+02</td>\n",
       "    </tr>\n",
       "    <tr>\n",
       "      <th>25%</th>\n",
       "      <td>10000.75000</td>\n",
       "      <td>29.00000</td>\n",
       "      <td>1.440000e+04</td>\n",
       "      <td>2500.000000</td>\n",
       "      <td>0.000000</td>\n",
       "      <td>0.00000</td>\n",
       "      <td>1.000000</td>\n",
       "      <td>2.000000</td>\n",
       "      <td>200.000000</td>\n",
       "      <td>0.000000</td>\n",
       "      <td>0.500000</td>\n",
       "      <td>12.000000</td>\n",
       "      <td>12.000000</td>\n",
       "      <td>5.000000e+03</td>\n",
       "    </tr>\n",
       "    <tr>\n",
       "      <th>50%</th>\n",
       "      <td>20000.50000</td>\n",
       "      <td>35.00000</td>\n",
       "      <td>3.600000e+04</td>\n",
       "      <td>3500.000000</td>\n",
       "      <td>0.000000</td>\n",
       "      <td>1.00000</td>\n",
       "      <td>1.000000</td>\n",
       "      <td>3.000000</td>\n",
       "      <td>400.000000</td>\n",
       "      <td>1.000000</td>\n",
       "      <td>1.000000</td>\n",
       "      <td>12.000000</td>\n",
       "      <td>12.000000</td>\n",
       "      <td>8.000000e+03</td>\n",
       "    </tr>\n",
       "    <tr>\n",
       "      <th>75%</th>\n",
       "      <td>30000.25000</td>\n",
       "      <td>42.00000</td>\n",
       "      <td>5.600000e+04</td>\n",
       "      <td>4000.000000</td>\n",
       "      <td>0.000000</td>\n",
       "      <td>2.00000</td>\n",
       "      <td>1.000000</td>\n",
       "      <td>4.000000</td>\n",
       "      <td>600.000000</td>\n",
       "      <td>1.000000</td>\n",
       "      <td>1.000000</td>\n",
       "      <td>12.000000</td>\n",
       "      <td>50.000000</td>\n",
       "      <td>1.000000e+04</td>\n",
       "    </tr>\n",
       "    <tr>\n",
       "      <th>max</th>\n",
       "      <td>40000.00000</td>\n",
       "      <td>766105.00000</td>\n",
       "      <td>1.200000e+06</td>\n",
       "      <td>240000.000000</td>\n",
       "      <td>3.000000</td>\n",
       "      <td>7.00000</td>\n",
       "      <td>1.000000</td>\n",
       "      <td>950000.000000</td>\n",
       "      <td>700000.000000</td>\n",
       "      <td>1.000000</td>\n",
       "      <td>1.000000</td>\n",
       "      <td>84.000000</td>\n",
       "      <td>84.000000</td>\n",
       "      <td>1.343000e+06</td>\n",
       "    </tr>\n",
       "  </tbody>\n",
       "</table>\n",
       "</div>"
      ],
      "text/plain": [
       "                Id           age  annual_income  monthly_expenses  \\\n",
       "count  40000.00000   40000.00000   4.000000e+04      39880.000000   \n",
       "mean   20000.50000      55.15990   3.764021e+04       3810.875401   \n",
       "std    11547.14972    3830.35566   2.873912e+04       4592.958009   \n",
       "min        1.00000       2.00000   0.000000e+00          2.000000   \n",
       "25%    10000.75000      29.00000   1.440000e+04       2500.000000   \n",
       "50%    20000.50000      35.00000   3.600000e+04       3500.000000   \n",
       "75%    30000.25000      42.00000   5.600000e+04       4000.000000   \n",
       "max    40000.00000  766105.00000   1.200000e+06     240000.000000   \n",
       "\n",
       "       old_dependents  young_dependents  home_ownership  occupants_count  \\\n",
       "count    40000.000000       40000.00000    39621.000000     40000.000000   \n",
       "mean         0.044900           1.13710        0.972489        26.641000   \n",
       "std          0.222003           1.07384        0.163568      4749.995485   \n",
       "min          0.000000           0.00000        0.000000         0.000000   \n",
       "25%          0.000000           0.00000        1.000000         2.000000   \n",
       "50%          0.000000           1.00000        1.000000         3.000000   \n",
       "75%          0.000000           2.00000        1.000000         4.000000   \n",
       "max          3.000000           7.00000        1.000000    950000.000000   \n",
       "\n",
       "          house_area  sanitary_availability  water_availabity   loan_tenure  \\\n",
       "count   40000.000000           39792.000000      34747.000000  40000.000000   \n",
       "mean      552.804750               0.686369          0.753216     12.032225   \n",
       "std      4596.921905               0.464028          0.255337      1.367473   \n",
       "min         0.000000              -1.000000         -1.000000      3.000000   \n",
       "25%       200.000000               0.000000          0.500000     12.000000   \n",
       "50%       400.000000               1.000000          1.000000     12.000000   \n",
       "75%       600.000000               1.000000          1.000000     12.000000   \n",
       "max    700000.000000               1.000000          1.000000     84.000000   \n",
       "\n",
       "       loan_installments   loan_amount  \n",
       "count       40000.000000  4.000000e+04  \n",
       "mean           21.761175  8.412593e+03  \n",
       "std            16.682458  1.359694e+04  \n",
       "min             0.000000  1.000000e+02  \n",
       "25%            12.000000  5.000000e+03  \n",
       "50%            12.000000  8.000000e+03  \n",
       "75%            50.000000  1.000000e+04  \n",
       "max            84.000000  1.343000e+06  "
      ]
     },
     "execution_count": 8,
     "metadata": {},
     "output_type": "execute_result"
    }
   ],
   "source": [
    "df.describe()"
   ]
  },
  {
   "cell_type": "code",
   "execution_count": null,
   "metadata": {},
   "outputs": [],
   "source": []
  },
  {
   "cell_type": "markdown",
   "metadata": {},
   "source": [
    "# Exploratory Data Analysis (EDA)\n",
    "\n",
    "- Id: Primary Key\n",
    "\n",
    "- Personal Details: city, age, sex, social_class\n",
    "\n",
    "- Financial Details: primary_business, secondary_business, annual_income, monthly_expenses, old_dependents, young_dependents\n",
    "\n",
    "- House Details: home_ownership, type_of_house, occupants_count, house_area, sanitary_availability, water_availability\n",
    "\n",
    "- Loan Details: loan_purpose, loan_tenure, loan_installments, loan_amount (these contain loan details of loans that have been previously given, and which have been repaid)\n",
    "\n"
   ]
  },
  {
   "cell_type": "code",
   "execution_count": 9,
   "metadata": {},
   "outputs": [],
   "source": [
    "if 'Id' in df.columns:\n",
    "    df = df.drop('Id', axis='columns')\n"
   ]
  },
  {
   "cell_type": "code",
   "execution_count": 10,
   "metadata": {},
   "outputs": [
    {
     "name": "stdout",
     "output_type": "stream",
     "text": [
      "<class 'pandas.core.frame.DataFrame'>\n",
      "RangeIndex: 40000 entries, 0 to 39999\n",
      "Data columns (total 20 columns):\n",
      " #   Column                 Non-Null Count  Dtype  \n",
      "---  ------                 --------------  -----  \n",
      " 0   city                   38136 non-null  object \n",
      " 1   age                    40000 non-null  int64  \n",
      " 2   sex                    40000 non-null  object \n",
      " 3   social_class           34745 non-null  object \n",
      " 4   primary_business       39974 non-null  object \n",
      " 5   secondary_business     34759 non-null  object \n",
      " 6   annual_income          40000 non-null  float64\n",
      " 7   monthly_expenses       39880 non-null  float64\n",
      " 8   old_dependents         40000 non-null  int64  \n",
      " 9   young_dependents       40000 non-null  int64  \n",
      " 10  home_ownership         39621 non-null  float64\n",
      " 11  type_of_house          39306 non-null  object \n",
      " 12  occupants_count        40000 non-null  int64  \n",
      " 13  house_area             40000 non-null  float64\n",
      " 14  sanitary_availability  39792 non-null  float64\n",
      " 15  water_availabity       34747 non-null  float64\n",
      " 16  loan_purpose           39974 non-null  object \n",
      " 17  loan_tenure            40000 non-null  int64  \n",
      " 18  loan_installments      40000 non-null  int64  \n",
      " 19  loan_amount            40000 non-null  float64\n",
      "dtypes: float64(7), int64(6), object(7)\n",
      "memory usage: 6.1+ MB\n"
     ]
    }
   ],
   "source": [
    "df.info()"
   ]
  },
  {
   "cell_type": "code",
   "execution_count": 11,
   "metadata": {},
   "outputs": [
    {
     "data": {
      "text/plain": [
       "Index(['age', 'annual_income', 'monthly_expenses', 'old_dependents',\n",
       "       'young_dependents', 'home_ownership', 'occupants_count', 'house_area',\n",
       "       'sanitary_availability', 'water_availabity', 'loan_tenure',\n",
       "       'loan_installments', 'loan_amount'],\n",
       "      dtype='object')"
      ]
     },
     "execution_count": 11,
     "metadata": {},
     "output_type": "execute_result"
    }
   ],
   "source": [
    "df.select_dtypes(exclude='object').columns"
   ]
  },
  {
   "cell_type": "code",
   "execution_count": 12,
   "metadata": {},
   "outputs": [
    {
     "data": {
      "text/html": [
       "<div>\n",
       "<style scoped>\n",
       "    .dataframe tbody tr th:only-of-type {\n",
       "        vertical-align: middle;\n",
       "    }\n",
       "\n",
       "    .dataframe tbody tr th {\n",
       "        vertical-align: top;\n",
       "    }\n",
       "\n",
       "    .dataframe thead th {\n",
       "        text-align: right;\n",
       "    }\n",
       "</style>\n",
       "<table border=\"1\" class=\"dataframe\">\n",
       "  <thead>\n",
       "    <tr style=\"text-align: right;\">\n",
       "      <th></th>\n",
       "      <th>count</th>\n",
       "      <th>mean</th>\n",
       "      <th>std</th>\n",
       "      <th>min</th>\n",
       "      <th>25%</th>\n",
       "      <th>50%</th>\n",
       "      <th>75%</th>\n",
       "      <th>max</th>\n",
       "    </tr>\n",
       "  </thead>\n",
       "  <tbody>\n",
       "    <tr>\n",
       "      <th>age</th>\n",
       "      <td>40000.0</td>\n",
       "      <td>55.16</td>\n",
       "      <td>3830.36</td>\n",
       "      <td>2.0</td>\n",
       "      <td>29.0</td>\n",
       "      <td>35.0</td>\n",
       "      <td>42.0</td>\n",
       "      <td>766105.0</td>\n",
       "    </tr>\n",
       "    <tr>\n",
       "      <th>annual_income</th>\n",
       "      <td>40000.0</td>\n",
       "      <td>37640.21</td>\n",
       "      <td>28739.12</td>\n",
       "      <td>0.0</td>\n",
       "      <td>14400.0</td>\n",
       "      <td>36000.0</td>\n",
       "      <td>56000.0</td>\n",
       "      <td>1200000.0</td>\n",
       "    </tr>\n",
       "    <tr>\n",
       "      <th>monthly_expenses</th>\n",
       "      <td>39880.0</td>\n",
       "      <td>3810.88</td>\n",
       "      <td>4592.96</td>\n",
       "      <td>2.0</td>\n",
       "      <td>2500.0</td>\n",
       "      <td>3500.0</td>\n",
       "      <td>4000.0</td>\n",
       "      <td>240000.0</td>\n",
       "    </tr>\n",
       "    <tr>\n",
       "      <th>old_dependents</th>\n",
       "      <td>40000.0</td>\n",
       "      <td>0.04</td>\n",
       "      <td>0.22</td>\n",
       "      <td>0.0</td>\n",
       "      <td>0.0</td>\n",
       "      <td>0.0</td>\n",
       "      <td>0.0</td>\n",
       "      <td>3.0</td>\n",
       "    </tr>\n",
       "    <tr>\n",
       "      <th>young_dependents</th>\n",
       "      <td>40000.0</td>\n",
       "      <td>1.14</td>\n",
       "      <td>1.07</td>\n",
       "      <td>0.0</td>\n",
       "      <td>0.0</td>\n",
       "      <td>1.0</td>\n",
       "      <td>2.0</td>\n",
       "      <td>7.0</td>\n",
       "    </tr>\n",
       "    <tr>\n",
       "      <th>home_ownership</th>\n",
       "      <td>39621.0</td>\n",
       "      <td>0.97</td>\n",
       "      <td>0.16</td>\n",
       "      <td>0.0</td>\n",
       "      <td>1.0</td>\n",
       "      <td>1.0</td>\n",
       "      <td>1.0</td>\n",
       "      <td>1.0</td>\n",
       "    </tr>\n",
       "    <tr>\n",
       "      <th>occupants_count</th>\n",
       "      <td>40000.0</td>\n",
       "      <td>26.64</td>\n",
       "      <td>4750.00</td>\n",
       "      <td>0.0</td>\n",
       "      <td>2.0</td>\n",
       "      <td>3.0</td>\n",
       "      <td>4.0</td>\n",
       "      <td>950000.0</td>\n",
       "    </tr>\n",
       "    <tr>\n",
       "      <th>house_area</th>\n",
       "      <td>40000.0</td>\n",
       "      <td>552.80</td>\n",
       "      <td>4596.92</td>\n",
       "      <td>0.0</td>\n",
       "      <td>200.0</td>\n",
       "      <td>400.0</td>\n",
       "      <td>600.0</td>\n",
       "      <td>700000.0</td>\n",
       "    </tr>\n",
       "    <tr>\n",
       "      <th>sanitary_availability</th>\n",
       "      <td>39792.0</td>\n",
       "      <td>0.69</td>\n",
       "      <td>0.46</td>\n",
       "      <td>-1.0</td>\n",
       "      <td>0.0</td>\n",
       "      <td>1.0</td>\n",
       "      <td>1.0</td>\n",
       "      <td>1.0</td>\n",
       "    </tr>\n",
       "    <tr>\n",
       "      <th>water_availabity</th>\n",
       "      <td>34747.0</td>\n",
       "      <td>0.75</td>\n",
       "      <td>0.26</td>\n",
       "      <td>-1.0</td>\n",
       "      <td>0.5</td>\n",
       "      <td>1.0</td>\n",
       "      <td>1.0</td>\n",
       "      <td>1.0</td>\n",
       "    </tr>\n",
       "    <tr>\n",
       "      <th>loan_tenure</th>\n",
       "      <td>40000.0</td>\n",
       "      <td>12.03</td>\n",
       "      <td>1.37</td>\n",
       "      <td>3.0</td>\n",
       "      <td>12.0</td>\n",
       "      <td>12.0</td>\n",
       "      <td>12.0</td>\n",
       "      <td>84.0</td>\n",
       "    </tr>\n",
       "    <tr>\n",
       "      <th>loan_installments</th>\n",
       "      <td>40000.0</td>\n",
       "      <td>21.76</td>\n",
       "      <td>16.68</td>\n",
       "      <td>0.0</td>\n",
       "      <td>12.0</td>\n",
       "      <td>12.0</td>\n",
       "      <td>50.0</td>\n",
       "      <td>84.0</td>\n",
       "    </tr>\n",
       "    <tr>\n",
       "      <th>loan_amount</th>\n",
       "      <td>40000.0</td>\n",
       "      <td>8412.59</td>\n",
       "      <td>13596.94</td>\n",
       "      <td>100.0</td>\n",
       "      <td>5000.0</td>\n",
       "      <td>8000.0</td>\n",
       "      <td>10000.0</td>\n",
       "      <td>1343000.0</td>\n",
       "    </tr>\n",
       "  </tbody>\n",
       "</table>\n",
       "</div>"
      ],
      "text/plain": [
       "                         count      mean       std    min      25%      50%  \\\n",
       "age                    40000.0     55.16   3830.36    2.0     29.0     35.0   \n",
       "annual_income          40000.0  37640.21  28739.12    0.0  14400.0  36000.0   \n",
       "monthly_expenses       39880.0   3810.88   4592.96    2.0   2500.0   3500.0   \n",
       "old_dependents         40000.0      0.04      0.22    0.0      0.0      0.0   \n",
       "young_dependents       40000.0      1.14      1.07    0.0      0.0      1.0   \n",
       "home_ownership         39621.0      0.97      0.16    0.0      1.0      1.0   \n",
       "occupants_count        40000.0     26.64   4750.00    0.0      2.0      3.0   \n",
       "house_area             40000.0    552.80   4596.92    0.0    200.0    400.0   \n",
       "sanitary_availability  39792.0      0.69      0.46   -1.0      0.0      1.0   \n",
       "water_availabity       34747.0      0.75      0.26   -1.0      0.5      1.0   \n",
       "loan_tenure            40000.0     12.03      1.37    3.0     12.0     12.0   \n",
       "loan_installments      40000.0     21.76     16.68    0.0     12.0     12.0   \n",
       "loan_amount            40000.0   8412.59  13596.94  100.0   5000.0   8000.0   \n",
       "\n",
       "                           75%        max  \n",
       "age                       42.0   766105.0  \n",
       "annual_income          56000.0  1200000.0  \n",
       "monthly_expenses        4000.0   240000.0  \n",
       "old_dependents             0.0        3.0  \n",
       "young_dependents           2.0        7.0  \n",
       "home_ownership             1.0        1.0  \n",
       "occupants_count            4.0   950000.0  \n",
       "house_area               600.0   700000.0  \n",
       "sanitary_availability      1.0        1.0  \n",
       "water_availabity           1.0        1.0  \n",
       "loan_tenure               12.0       84.0  \n",
       "loan_installments         50.0       84.0  \n",
       "loan_amount            10000.0  1343000.0  "
      ]
     },
     "execution_count": 12,
     "metadata": {},
     "output_type": "execute_result"
    }
   ],
   "source": [
    "df.select_dtypes(exclude=['object']).describe().round(decimals=2).transpose()\n",
    "\n"
   ]
  },
  {
   "cell_type": "code",
   "execution_count": null,
   "metadata": {},
   "outputs": [],
   "source": []
  },
  {
   "cell_type": "markdown",
   "metadata": {},
   "source": [
    "## Target\n"
   ]
  },
  {
   "cell_type": "code",
   "execution_count": 13,
   "metadata": {},
   "outputs": [
    {
     "data": {
      "image/png": "[encoded data removed]",
      "text/plain": [
       "<Figure size 432x288 with 1 Axes>"
      ]
     },
     "metadata": {
      "needs_background": "light"
     },
     "output_type": "display_data"
    }
   ],
   "source": [
    "sns.distplot(df['loan_amount']);\n"
   ]
  },
  {
   "cell_type": "code",
   "execution_count": 14,
   "metadata": {},
   "outputs": [
    {
     "data": {
      "text/plain": [
       "count    4.000000e+04\n",
       "mean     8.412593e+03\n",
       "std      1.359694e+04\n",
       "min      1.000000e+02\n",
       "25%      5.000000e+03\n",
       "50%      8.000000e+03\n",
       "75%      1.000000e+04\n",
       "max      1.343000e+06\n",
       "Name: loan_amount, dtype: float64"
      ]
     },
     "execution_count": 14,
     "metadata": {},
     "output_type": "execute_result"
    }
   ],
   "source": [
    "df['loan_amount'].describe()\n"
   ]
  },
  {
   "cell_type": "code",
   "execution_count": 15,
   "metadata": {},
   "outputs": [
    {
     "data": {
      "image/png": "[encoded data removed]",
      "text/plain": [
       "<Figure size 432x288 with 1 Axes>"
      ]
     },
     "metadata": {
      "needs_background": "light"
     },
     "output_type": "display_data"
    }
   ],
   "source": [
    "sns.distplot(np.log(df['loan_amount']));\n"
   ]
  },
  {
   "cell_type": "code",
   "execution_count": null,
   "metadata": {},
   "outputs": [],
   "source": []
  },
  {
   "cell_type": "markdown",
   "metadata": {},
   "source": [
    "## Numerical Variables\n"
   ]
  },
  {
   "cell_type": "code",
   "execution_count": 16,
   "metadata": {},
   "outputs": [
    {
     "name": "stdout",
     "output_type": "stream",
     "text": [
      "12\n"
     ]
    }
   ],
   "source": [
    "num_attributes = df.select_dtypes(exclude='object').drop(['loan_amount'], axis=1).copy()\n",
    "print(len(num_attributes.columns))\n"
   ]
  },
  {
   "cell_type": "code",
   "execution_count": 86,
   "metadata": {},
   "outputs": [
    {
     "data": {
      "text/plain": [
       "Index(['age', 'annual_income', 'monthly_expenses', 'old_dependents',\n",
       "       'young_dependents', 'home_ownership', 'occupants_count', 'house_area',\n",
       "       'sanitary_availability', 'water_availabity', 'loan_tenure',\n",
       "       'loan_installments'],\n",
       "      dtype='object')"
      ]
     },
     "execution_count": 86,
     "metadata": {},
     "output_type": "execute_result"
    }
   ],
   "source": [
    "num_attributes.columns"
   ]
  },
  {
   "cell_type": "markdown",
   "metadata": {},
   "source": [
    "### Distplot"
   ]
  },
  {
   "cell_type": "code",
   "execution_count": 17,
   "metadata": {},
   "outputs": [
    {
     "data": {
      "image/png": "[encoded data removed]",
      "text/plain": [
       "<Figure size 864x1296 with 12 Axes>"
      ]
     },
     "metadata": {
      "needs_background": "light"
     },
     "output_type": "display_data"
    }
   ],
   "source": [
    "fig = plt.figure(figsize=(12,18))\n",
    "for i in range(len(num_attributes.columns)):\n",
    "    fig.add_subplot(9,4,i+1)\n",
    "    sns.distplot(num_attributes.iloc[:, i].dropna(), hist = False, rug = True)\n",
    "    plt.xlabel(num_attributes.columns[i])\n",
    "\n",
    "plt.tight_layout()\n",
    "plt.show()\n"
   ]
  },
  {
   "cell_type": "markdown",
   "metadata": {},
   "source": [
    "### Boxplot"
   ]
  },
  {
   "cell_type": "code",
   "execution_count": 18,
   "metadata": {},
   "outputs": [
    {
     "data": {
      "image/png": "[encoded data removed]",
      "text/plain": [
       "<Figure size 720x1080 with 12 Axes>"
      ]
     },
     "metadata": {
      "needs_background": "light"
     },
     "output_type": "display_data"
    }
   ],
   "source": [
    "fig = plt.figure(figsize=(10, 15))\n",
    "for i in range(len(num_attributes.columns)):\n",
    "    fig.add_subplot(9, 4, i+1)\n",
    "    sns.boxplot(y=num_attributes.iloc[:, i])\n",
    "\n",
    "plt.tight_layout()\n",
    "plt.show()\n"
   ]
  },
  {
   "cell_type": "markdown",
   "metadata": {},
   "source": [
    "### Quantile\n"
   ]
  },
  {
   "cell_type": "code",
   "execution_count": 19,
   "metadata": {},
   "outputs": [
    {
     "data": {
      "text/plain": [
       "age                          65.0\n",
       "annual_income            150000.0\n",
       "monthly_expenses          60000.0\n",
       "old_dependents                2.0\n",
       "young_dependents              5.0\n",
       "home_ownership                1.0\n",
       "occupants_count              10.0\n",
       "house_area                 8500.0\n",
       "sanitary_availability         1.0\n",
       "water_availabity              1.0\n",
       "loan_tenure                  24.0\n",
       "loan_installments            55.0\n",
       "loan_amount               50000.0\n",
       "Name: 0.999, dtype: float64"
      ]
     },
     "execution_count": 19,
     "metadata": {},
     "output_type": "execute_result"
    }
   ],
   "source": [
    "high_quant = df.quantile(0.999)\n",
    "high_quant\n"
   ]
  },
  {
   "cell_type": "code",
   "execution_count": null,
   "metadata": {},
   "outputs": [],
   "source": []
  },
  {
   "cell_type": "markdown",
   "metadata": {},
   "source": [
    "## Categorical variables\n"
   ]
  },
  {
   "cell_type": "code",
   "execution_count": 20,
   "metadata": {},
   "outputs": [
    {
     "name": "stdout",
     "output_type": "stream",
     "text": [
      "Index(['city', 'sex', 'social_class', 'primary_business', 'secondary_business',\n",
      "       'type_of_house', 'loan_purpose'],\n",
      "      dtype='object')\n"
     ]
    }
   ],
   "source": [
    "cat_columns = df.select_dtypes(include='object').columns\n",
    "print(cat_columns)\n"
   ]
  },
  {
   "cell_type": "code",
   "execution_count": 21,
   "metadata": {},
   "outputs": [
    {
     "data": {
      "text/html": [
       "<div>\n",
       "<style scoped>\n",
       "    .dataframe tbody tr th:only-of-type {\n",
       "        vertical-align: middle;\n",
       "    }\n",
       "\n",
       "    .dataframe tbody tr th {\n",
       "        vertical-align: top;\n",
       "    }\n",
       "\n",
       "    .dataframe thead th {\n",
       "        text-align: right;\n",
       "    }\n",
       "</style>\n",
       "<table border=\"1\" class=\"dataframe\">\n",
       "  <thead>\n",
       "    <tr style=\"text-align: right;\">\n",
       "      <th></th>\n",
       "      <th>count</th>\n",
       "      <th>unique</th>\n",
       "      <th>top</th>\n",
       "      <th>freq</th>\n",
       "    </tr>\n",
       "  </thead>\n",
       "  <tbody>\n",
       "    <tr>\n",
       "      <th>city</th>\n",
       "      <td>38136</td>\n",
       "      <td>856</td>\n",
       "      <td>Pusad</td>\n",
       "      <td>3154</td>\n",
       "    </tr>\n",
       "    <tr>\n",
       "      <th>sex</th>\n",
       "      <td>40000</td>\n",
       "      <td>3</td>\n",
       "      <td>F</td>\n",
       "      <td>37622</td>\n",
       "    </tr>\n",
       "    <tr>\n",
       "      <th>social_class</th>\n",
       "      <td>34745</td>\n",
       "      <td>519</td>\n",
       "      <td>OBC</td>\n",
       "      <td>10683</td>\n",
       "    </tr>\n",
       "    <tr>\n",
       "      <th>primary_business</th>\n",
       "      <td>39974</td>\n",
       "      <td>441</td>\n",
       "      <td>Tailoring</td>\n",
       "      <td>3971</td>\n",
       "    </tr>\n",
       "    <tr>\n",
       "      <th>secondary_business</th>\n",
       "      <td>34759</td>\n",
       "      <td>5</td>\n",
       "      <td>none</td>\n",
       "      <td>27366</td>\n",
       "    </tr>\n",
       "    <tr>\n",
       "      <th>type_of_house</th>\n",
       "      <td>39306</td>\n",
       "      <td>3</td>\n",
       "      <td>T2</td>\n",
       "      <td>17715</td>\n",
       "    </tr>\n",
       "    <tr>\n",
       "      <th>loan_purpose</th>\n",
       "      <td>39974</td>\n",
       "      <td>37</td>\n",
       "      <td>Apparels</td>\n",
       "      <td>7064</td>\n",
       "    </tr>\n",
       "  </tbody>\n",
       "</table>\n",
       "</div>"
      ],
      "text/plain": [
       "                    count unique        top   freq\n",
       "city                38136    856      Pusad   3154\n",
       "sex                 40000      3          F  37622\n",
       "social_class        34745    519        OBC  10683\n",
       "primary_business    39974    441  Tailoring   3971\n",
       "secondary_business  34759      5       none  27366\n",
       "type_of_house       39306      3         T2  17715\n",
       "loan_purpose        39974     37   Apparels   7064"
      ]
     },
     "execution_count": 21,
     "metadata": {},
     "output_type": "execute_result"
    }
   ],
   "source": [
    "df.select_dtypes(include=['object']).describe().transpose()\n"
   ]
  },
  {
   "cell_type": "code",
   "execution_count": null,
   "metadata": {},
   "outputs": [],
   "source": []
  },
  {
   "cell_type": "markdown",
   "metadata": {},
   "source": [
    "### city"
   ]
  },
  {
   "cell_type": "code",
   "execution_count": 40,
   "metadata": {},
   "outputs": [
    {
     "data": {
      "text/html": [
       "<div>\n",
       "<style scoped>\n",
       "    .dataframe tbody tr th:only-of-type {\n",
       "        vertical-align: middle;\n",
       "    }\n",
       "\n",
       "    .dataframe tbody tr th {\n",
       "        vertical-align: top;\n",
       "    }\n",
       "\n",
       "    .dataframe thead th {\n",
       "        text-align: right;\n",
       "    }\n",
       "</style>\n",
       "<table border=\"1\" class=\"dataframe\">\n",
       "  <thead>\n",
       "    <tr style=\"text-align: right;\">\n",
       "      <th></th>\n",
       "      <th>city</th>\n",
       "      <th>loan_amount</th>\n",
       "    </tr>\n",
       "  </thead>\n",
       "  <tbody>\n",
       "    <tr>\n",
       "      <th>76</th>\n",
       "      <td>Bhimanakone</td>\n",
       "      <td>1000000.000000</td>\n",
       "    </tr>\n",
       "    <tr>\n",
       "      <th>698</th>\n",
       "      <td>Shimoga</td>\n",
       "      <td>625000.000000</td>\n",
       "    </tr>\n",
       "    <tr>\n",
       "      <th>23</th>\n",
       "      <td>BAHADARPUR</td>\n",
       "      <td>500000.000000</td>\n",
       "    </tr>\n",
       "    <tr>\n",
       "      <th>763</th>\n",
       "      <td>Thakurpukur</td>\n",
       "      <td>451500.000000</td>\n",
       "    </tr>\n",
       "    <tr>\n",
       "      <th>289</th>\n",
       "      <td>Jalgaon</td>\n",
       "      <td>292400.000000</td>\n",
       "    </tr>\n",
       "    <tr>\n",
       "      <th>...</th>\n",
       "      <td>...</td>\n",
       "      <td>...</td>\n",
       "    </tr>\n",
       "    <tr>\n",
       "      <th>117</th>\n",
       "      <td>CHANNAVADEYANAPURA</td>\n",
       "      <td>2500.000000</td>\n",
       "    </tr>\n",
       "    <tr>\n",
       "      <th>28</th>\n",
       "      <td>BELGAUM</td>\n",
       "      <td>2500.000000</td>\n",
       "    </tr>\n",
       "    <tr>\n",
       "      <th>70</th>\n",
       "      <td>Bhatapada</td>\n",
       "      <td>2083.333333</td>\n",
       "    </tr>\n",
       "    <tr>\n",
       "      <th>68</th>\n",
       "      <td>Bhadapada</td>\n",
       "      <td>2000.000000</td>\n",
       "    </tr>\n",
       "    <tr>\n",
       "      <th>71</th>\n",
       "      <td>Bhataspada</td>\n",
       "      <td>2000.000000</td>\n",
       "    </tr>\n",
       "  </tbody>\n",
       "</table>\n",
       "<p>856 rows × 2 columns</p>\n",
       "</div>"
      ],
      "text/plain": [
       "                   city     loan_amount\n",
       "76          Bhimanakone  1000000.000000\n",
       "698             Shimoga   625000.000000\n",
       "23           BAHADARPUR   500000.000000\n",
       "763         Thakurpukur   451500.000000\n",
       "289             Jalgaon   292400.000000\n",
       "..                  ...             ...\n",
       "117  CHANNAVADEYANAPURA     2500.000000\n",
       "28              BELGAUM     2500.000000\n",
       "70            Bhatapada     2083.333333\n",
       "68            Bhadapada     2000.000000\n",
       "71           Bhataspada     2000.000000\n",
       "\n",
       "[856 rows x 2 columns]"
      ]
     },
     "execution_count": 40,
     "metadata": {},
     "output_type": "execute_result"
    }
   ],
   "source": [
    "df.groupby(['city'])['loan_amount'].agg(np.mean).reset_index().sort_values(by='loan_amount', ascending=False)\n"
   ]
  },
  {
   "cell_type": "code",
   "execution_count": 45,
   "metadata": {},
   "outputs": [
    {
     "data": {
      "text/html": [
       "<div>\n",
       "<style scoped>\n",
       "    .dataframe tbody tr th:only-of-type {\n",
       "        vertical-align: middle;\n",
       "    }\n",
       "\n",
       "    .dataframe tbody tr th {\n",
       "        vertical-align: top;\n",
       "    }\n",
       "\n",
       "    .dataframe thead th {\n",
       "        text-align: right;\n",
       "    }\n",
       "</style>\n",
       "<table border=\"1\" class=\"dataframe\">\n",
       "  <thead>\n",
       "    <tr style=\"text-align: right;\">\n",
       "      <th></th>\n",
       "      <th>city</th>\n",
       "      <th>loan_amount</th>\n",
       "    </tr>\n",
       "  </thead>\n",
       "  <tbody>\n",
       "    <tr>\n",
       "      <th>76</th>\n",
       "      <td>Bhimanakone</td>\n",
       "      <td>1000000.000000</td>\n",
       "    </tr>\n",
       "    <tr>\n",
       "      <th>698</th>\n",
       "      <td>Shimoga</td>\n",
       "      <td>625000.000000</td>\n",
       "    </tr>\n",
       "    <tr>\n",
       "      <th>23</th>\n",
       "      <td>BAHADARPUR</td>\n",
       "      <td>500000.000000</td>\n",
       "    </tr>\n",
       "    <tr>\n",
       "      <th>763</th>\n",
       "      <td>Thakurpukur</td>\n",
       "      <td>451500.000000</td>\n",
       "    </tr>\n",
       "    <tr>\n",
       "      <th>289</th>\n",
       "      <td>Jalgaon</td>\n",
       "      <td>292400.000000</td>\n",
       "    </tr>\n",
       "    <tr>\n",
       "      <th>634</th>\n",
       "      <td>Ranjani</td>\n",
       "      <td>135000.000000</td>\n",
       "    </tr>\n",
       "    <tr>\n",
       "      <th>16</th>\n",
       "      <td>Anupshahr</td>\n",
       "      <td>103000.000000</td>\n",
       "    </tr>\n",
       "    <tr>\n",
       "      <th>445</th>\n",
       "      <td>Mangoan</td>\n",
       "      <td>100000.000000</td>\n",
       "    </tr>\n",
       "    <tr>\n",
       "      <th>786</th>\n",
       "      <td>Varanasi</td>\n",
       "      <td>94458.333333</td>\n",
       "    </tr>\n",
       "    <tr>\n",
       "      <th>253</th>\n",
       "      <td>Hubli</td>\n",
       "      <td>84833.333333</td>\n",
       "    </tr>\n",
       "    <tr>\n",
       "      <th>764</th>\n",
       "      <td>Thane</td>\n",
       "      <td>50000.000000</td>\n",
       "    </tr>\n",
       "    <tr>\n",
       "      <th>560</th>\n",
       "      <td>Panvel</td>\n",
       "      <td>50000.000000</td>\n",
       "    </tr>\n",
       "    <tr>\n",
       "      <th>409</th>\n",
       "      <td>LIMDI</td>\n",
       "      <td>50000.000000</td>\n",
       "    </tr>\n",
       "    <tr>\n",
       "      <th>481</th>\n",
       "      <td>NEAR WADHAN CITY</td>\n",
       "      <td>40000.000000</td>\n",
       "    </tr>\n",
       "    <tr>\n",
       "      <th>33</th>\n",
       "      <td>Bahadarpur</td>\n",
       "      <td>35000.000000</td>\n",
       "    </tr>\n",
       "    <tr>\n",
       "      <th>699</th>\n",
       "      <td>Shirsode</td>\n",
       "      <td>35000.000000</td>\n",
       "    </tr>\n",
       "    <tr>\n",
       "      <th>110</th>\n",
       "      <td>Bori</td>\n",
       "      <td>30000.000000</td>\n",
       "    </tr>\n",
       "    <tr>\n",
       "      <th>415</th>\n",
       "      <td>Latur</td>\n",
       "      <td>30000.000000</td>\n",
       "    </tr>\n",
       "    <tr>\n",
       "      <th>201</th>\n",
       "      <td>Gabhdeya</td>\n",
       "      <td>30000.000000</td>\n",
       "    </tr>\n",
       "    <tr>\n",
       "      <th>48</th>\n",
       "      <td>Bangalore</td>\n",
       "      <td>22592.592593</td>\n",
       "    </tr>\n",
       "  </tbody>\n",
       "</table>\n",
       "</div>"
      ],
      "text/plain": [
       "                 city     loan_amount\n",
       "76        Bhimanakone  1000000.000000\n",
       "698           Shimoga   625000.000000\n",
       "23         BAHADARPUR   500000.000000\n",
       "763       Thakurpukur   451500.000000\n",
       "289           Jalgaon   292400.000000\n",
       "634           Ranjani   135000.000000\n",
       "16          Anupshahr   103000.000000\n",
       "445           Mangoan   100000.000000\n",
       "786          Varanasi    94458.333333\n",
       "253             Hubli    84833.333333\n",
       "764             Thane    50000.000000\n",
       "560            Panvel    50000.000000\n",
       "409             LIMDI    50000.000000\n",
       "481  NEAR WADHAN CITY    40000.000000\n",
       "33         Bahadarpur    35000.000000\n",
       "699          Shirsode    35000.000000\n",
       "110              Bori    30000.000000\n",
       "415             Latur    30000.000000\n",
       "201          Gabhdeya    30000.000000\n",
       "48          Bangalore    22592.592593"
      ]
     },
     "execution_count": 45,
     "metadata": {},
     "output_type": "execute_result"
    }
   ],
   "source": [
    "df.groupby(['city'])['loan_amount'].agg(np.mean).reset_index().sort_values(by='loan_amount', ascending=False).iloc[:20]\n"
   ]
  },
  {
   "cell_type": "code",
   "execution_count": 41,
   "metadata": {},
   "outputs": [
    {
     "data": {
      "text/plain": [
       "Pusad          3154\n",
       "Bahoriband     1979\n",
       "PUSAD          1776\n",
       "Shantipur      1727\n",
       "Imphal         1699\n",
       "               ... \n",
       "bar               1\n",
       "Khategoan         1\n",
       "Elayampadam       1\n",
       "Sirirangam        1\n",
       "Periapatna        1\n",
       "Name: city, Length: 856, dtype: int64"
      ]
     },
     "execution_count": 41,
     "metadata": {},
     "output_type": "execute_result"
    }
   ],
   "source": [
    "df['city'].value_counts()\n"
   ]
  },
  {
   "cell_type": "code",
   "execution_count": 43,
   "metadata": {},
   "outputs": [
    {
     "data": {
      "text/plain": [
       "Pusad            3154\n",
       "Bahoriband       1979\n",
       "PUSAD            1776\n",
       "Shantipur        1727\n",
       "Imphal           1699\n",
       "Mathurapur       1361\n",
       "SANDESHKHALI     1087\n",
       "Joynagar          993\n",
       "Gwalior           952\n",
       "Kozhinjampara     897\n",
       "Muzaffarpur       843\n",
       "Nuapada           782\n",
       "Baruipur          730\n",
       "Parola            637\n",
       "Pune              637\n",
       "GWALIOR           635\n",
       "Jhabua            602\n",
       "Balasore          553\n",
       "Puri              546\n",
       "Sambalpur         496\n",
       "Name: city, dtype: int64"
      ]
     },
     "execution_count": 43,
     "metadata": {},
     "output_type": "execute_result"
    }
   ],
   "source": [
    "df['city'].value_counts()[:20]"
   ]
  },
  {
   "cell_type": "code",
   "execution_count": null,
   "metadata": {},
   "outputs": [],
   "source": []
  },
  {
   "cell_type": "markdown",
   "metadata": {},
   "source": [
    "### sex"
   ]
  },
  {
   "cell_type": "code",
   "execution_count": 32,
   "metadata": {},
   "outputs": [
    {
     "data": {
      "text/plain": [
       "array(['F', 'M', 'TG'], dtype=object)"
      ]
     },
     "execution_count": 32,
     "metadata": {},
     "output_type": "execute_result"
    }
   ],
   "source": [
    "df['sex'].unique()\n"
   ]
  },
  {
   "cell_type": "code",
   "execution_count": 58,
   "metadata": {},
   "outputs": [
    {
     "data": {
      "image/png": "[encoded data removed]",
      "text/plain": [
       "<Figure size 864x288 with 1 Axes>"
      ]
     },
     "metadata": {
      "needs_background": "light"
     },
     "output_type": "display_data"
    }
   ],
   "source": [
    "fig = plt.figure(figsize=(12, 4))\n",
    "sns.countplot(x='sex', data=df)\n",
    "plt.xticks(rotation=90)\n",
    "plt.ylabel('Frequency')\n",
    "plt.show()\n"
   ]
  },
  {
   "cell_type": "code",
   "execution_count": 31,
   "metadata": {},
   "outputs": [
    {
     "data": {
      "image/png": "[encoded data removed]",
      "text/plain": [
       "<Figure size 720x432 with 1 Axes>"
      ]
     },
     "metadata": {
      "needs_background": "light"
     },
     "output_type": "display_data"
    }
   ],
   "source": [
    "var = df['sex']\n",
    "f, ax = plt.subplots(figsize=(10,6))\n",
    "sns.boxplot(y=df['loan_amount'], x=var)\n",
    "plt.show()\n"
   ]
  },
  {
   "cell_type": "code",
   "execution_count": 76,
   "metadata": {},
   "outputs": [
    {
     "data": {
      "image/png": "[encoded data removed]",
      "text/plain": [
       "<Figure size 720x432 with 1 Axes>"
      ]
     },
     "metadata": {
      "needs_background": "light"
     },
     "output_type": "display_data"
    }
   ],
   "source": [
    "var = df['sex']\n",
    "f, ax = plt.subplots(figsize=(10,6))\n",
    "sns.boxplot(y=np.log(df['loan_amount']), x=var)\n",
    "plt.show()\n"
   ]
  },
  {
   "cell_type": "code",
   "execution_count": 33,
   "metadata": {},
   "outputs": [
    {
     "data": {
      "text/plain": [
       "count    3.762200e+04\n",
       "mean     8.375397e+03\n",
       "std      1.388616e+04\n",
       "min      1.000000e+02\n",
       "25%      5.000000e+03\n",
       "50%      8.000000e+03\n",
       "75%      1.000000e+04\n",
       "max      1.343000e+06\n",
       "Name: loan_amount, dtype: float64"
      ]
     },
     "execution_count": 33,
     "metadata": {},
     "output_type": "execute_result"
    }
   ],
   "source": [
    "df[df['sex']=='F']['loan_amount'].describe()\n"
   ]
  },
  {
   "cell_type": "code",
   "execution_count": 34,
   "metadata": {},
   "outputs": [
    {
     "data": {
      "text/plain": [
       "count      2371.000000\n",
       "mean       9001.054407\n",
       "std        7676.010836\n",
       "min         200.000000\n",
       "25%        5000.000000\n",
       "50%       10000.000000\n",
       "75%       10000.000000\n",
       "max      150000.000000\n",
       "Name: loan_amount, dtype: float64"
      ]
     },
     "execution_count": 34,
     "metadata": {},
     "output_type": "execute_result"
    }
   ],
   "source": [
    "df[df['sex']=='M']['loan_amount'].describe()\n"
   ]
  },
  {
   "cell_type": "code",
   "execution_count": 35,
   "metadata": {},
   "outputs": [
    {
     "data": {
      "text/plain": [
       "count        7.000000\n",
       "mean      9000.000000\n",
       "std       3651.483717\n",
       "min       5000.000000\n",
       "25%       6500.000000\n",
       "50%       8000.000000\n",
       "75%      11000.000000\n",
       "max      15000.000000\n",
       "Name: loan_amount, dtype: float64"
      ]
     },
     "execution_count": 35,
     "metadata": {},
     "output_type": "execute_result"
    }
   ],
   "source": [
    "df[df['sex']=='TG']['loan_amount'].describe()\n"
   ]
  },
  {
   "cell_type": "code",
   "execution_count": 60,
   "metadata": {},
   "outputs": [
    {
     "data": {
      "text/html": [
       "<div>\n",
       "<style scoped>\n",
       "    .dataframe tbody tr th:only-of-type {\n",
       "        vertical-align: middle;\n",
       "    }\n",
       "\n",
       "    .dataframe tbody tr th {\n",
       "        vertical-align: top;\n",
       "    }\n",
       "\n",
       "    .dataframe thead th {\n",
       "        text-align: right;\n",
       "    }\n",
       "</style>\n",
       "<table border=\"1\" class=\"dataframe\">\n",
       "  <thead>\n",
       "    <tr style=\"text-align: right;\">\n",
       "      <th></th>\n",
       "      <th>sex</th>\n",
       "      <th>loan_amount</th>\n",
       "    </tr>\n",
       "  </thead>\n",
       "  <tbody>\n",
       "    <tr>\n",
       "      <th>1</th>\n",
       "      <td>M</td>\n",
       "      <td>9001.054407</td>\n",
       "    </tr>\n",
       "    <tr>\n",
       "      <th>2</th>\n",
       "      <td>TG</td>\n",
       "      <td>9000.000000</td>\n",
       "    </tr>\n",
       "    <tr>\n",
       "      <th>0</th>\n",
       "      <td>F</td>\n",
       "      <td>8375.397374</td>\n",
       "    </tr>\n",
       "  </tbody>\n",
       "</table>\n",
       "</div>"
      ],
      "text/plain": [
       "  sex  loan_amount\n",
       "1   M  9001.054407\n",
       "2  TG  9000.000000\n",
       "0   F  8375.397374"
      ]
     },
     "execution_count": 60,
     "metadata": {},
     "output_type": "execute_result"
    }
   ],
   "source": [
    "df.groupby(['sex'])['loan_amount'].agg(np.mean).reset_index().sort_values(by='loan_amount', ascending=False)\n"
   ]
  },
  {
   "cell_type": "code",
   "execution_count": 61,
   "metadata": {},
   "outputs": [
    {
     "data": {
      "text/html": [
       "<div>\n",
       "<style scoped>\n",
       "    .dataframe tbody tr th:only-of-type {\n",
       "        vertical-align: middle;\n",
       "    }\n",
       "\n",
       "    .dataframe tbody tr th {\n",
       "        vertical-align: top;\n",
       "    }\n",
       "\n",
       "    .dataframe thead th {\n",
       "        text-align: right;\n",
       "    }\n",
       "</style>\n",
       "<table border=\"1\" class=\"dataframe\">\n",
       "  <thead>\n",
       "    <tr style=\"text-align: right;\">\n",
       "      <th></th>\n",
       "      <th>sex</th>\n",
       "      <th>loan_amount</th>\n",
       "    </tr>\n",
       "  </thead>\n",
       "  <tbody>\n",
       "    <tr>\n",
       "      <th>0</th>\n",
       "      <td>F</td>\n",
       "      <td>13886.159681</td>\n",
       "    </tr>\n",
       "    <tr>\n",
       "      <th>1</th>\n",
       "      <td>M</td>\n",
       "      <td>7676.010836</td>\n",
       "    </tr>\n",
       "    <tr>\n",
       "      <th>2</th>\n",
       "      <td>TG</td>\n",
       "      <td>3651.483717</td>\n",
       "    </tr>\n",
       "  </tbody>\n",
       "</table>\n",
       "</div>"
      ],
      "text/plain": [
       "  sex   loan_amount\n",
       "0   F  13886.159681\n",
       "1   M   7676.010836\n",
       "2  TG   3651.483717"
      ]
     },
     "execution_count": 61,
     "metadata": {},
     "output_type": "execute_result"
    }
   ],
   "source": [
    "df.groupby(['sex'])['loan_amount'].agg(np.std).reset_index().sort_values(by='loan_amount', ascending=False)\n"
   ]
  },
  {
   "cell_type": "markdown",
   "metadata": {},
   "source": [
    "### social_class\n"
   ]
  },
  {
   "cell_type": "code",
   "execution_count": 46,
   "metadata": {},
   "outputs": [
    {
     "data": {
      "text/html": [
       "<div>\n",
       "<style scoped>\n",
       "    .dataframe tbody tr th:only-of-type {\n",
       "        vertical-align: middle;\n",
       "    }\n",
       "\n",
       "    .dataframe tbody tr th {\n",
       "        vertical-align: top;\n",
       "    }\n",
       "\n",
       "    .dataframe thead th {\n",
       "        text-align: right;\n",
       "    }\n",
       "</style>\n",
       "<table border=\"1\" class=\"dataframe\">\n",
       "  <thead>\n",
       "    <tr style=\"text-align: right;\">\n",
       "      <th></th>\n",
       "      <th>social_class</th>\n",
       "      <th>loan_amount</th>\n",
       "    </tr>\n",
       "  </thead>\n",
       "  <tbody>\n",
       "    <tr>\n",
       "      <th>467</th>\n",
       "      <td>annn</td>\n",
       "      <td>1.343000e+06</td>\n",
       "    </tr>\n",
       "    <tr>\n",
       "      <th>436</th>\n",
       "      <td>Traditional Weaving</td>\n",
       "      <td>5.943000e+05</td>\n",
       "    </tr>\n",
       "    <tr>\n",
       "      <th>438</th>\n",
       "      <td>Tribal Artisans</td>\n",
       "      <td>5.000000e+05</td>\n",
       "    </tr>\n",
       "    <tr>\n",
       "      <th>11</th>\n",
       "      <td>ABC</td>\n",
       "      <td>5.000000e+05</td>\n",
       "    </tr>\n",
       "    <tr>\n",
       "      <th>511</th>\n",
       "      <td>sdf</td>\n",
       "      <td>3.600000e+05</td>\n",
       "    </tr>\n",
       "    <tr>\n",
       "      <th>...</th>\n",
       "      <td>...</td>\n",
       "      <td>...</td>\n",
       "    </tr>\n",
       "    <tr>\n",
       "      <th>48</th>\n",
       "      <td>Beda</td>\n",
       "      <td>3.181818e+03</td>\n",
       "    </tr>\n",
       "    <tr>\n",
       "      <th>175</th>\n",
       "      <td>Jenu Kuruba</td>\n",
       "      <td>3.000000e+03</td>\n",
       "    </tr>\n",
       "    <tr>\n",
       "      <th>171</th>\n",
       "      <td>Jain Kuruba</td>\n",
       "      <td>3.000000e+03</td>\n",
       "    </tr>\n",
       "    <tr>\n",
       "      <th>465</th>\n",
       "      <td>Yarava</td>\n",
       "      <td>3.000000e+03</td>\n",
       "    </tr>\n",
       "    <tr>\n",
       "      <th>466</th>\n",
       "      <td>Yaruvas</td>\n",
       "      <td>3.000000e+03</td>\n",
       "    </tr>\n",
       "  </tbody>\n",
       "</table>\n",
       "<p>519 rows × 2 columns</p>\n",
       "</div>"
      ],
      "text/plain": [
       "            social_class   loan_amount\n",
       "467                 annn  1.343000e+06\n",
       "436  Traditional Weaving  5.943000e+05\n",
       "438      Tribal Artisans  5.000000e+05\n",
       "11                   ABC  5.000000e+05\n",
       "511                  sdf  3.600000e+05\n",
       "..                   ...           ...\n",
       "48                  Beda  3.181818e+03\n",
       "175          Jenu Kuruba  3.000000e+03\n",
       "171          Jain Kuruba  3.000000e+03\n",
       "465               Yarava  3.000000e+03\n",
       "466              Yaruvas  3.000000e+03\n",
       "\n",
       "[519 rows x 2 columns]"
      ]
     },
     "execution_count": 46,
     "metadata": {},
     "output_type": "execute_result"
    }
   ],
   "source": [
    "df.groupby(['social_class'])['loan_amount'].agg(np.mean).reset_index().sort_values(by='loan_amount', ascending=False)\n"
   ]
  },
  {
   "cell_type": "code",
   "execution_count": 48,
   "metadata": {},
   "outputs": [
    {
     "data": {
      "text/html": [
       "<div>\n",
       "<style scoped>\n",
       "    .dataframe tbody tr th:only-of-type {\n",
       "        vertical-align: middle;\n",
       "    }\n",
       "\n",
       "    .dataframe tbody tr th {\n",
       "        vertical-align: top;\n",
       "    }\n",
       "\n",
       "    .dataframe thead th {\n",
       "        text-align: right;\n",
       "    }\n",
       "</style>\n",
       "<table border=\"1\" class=\"dataframe\">\n",
       "  <thead>\n",
       "    <tr style=\"text-align: right;\">\n",
       "      <th></th>\n",
       "      <th>social_class</th>\n",
       "      <th>loan_amount</th>\n",
       "    </tr>\n",
       "  </thead>\n",
       "  <tbody>\n",
       "    <tr>\n",
       "      <th>467</th>\n",
       "      <td>annn</td>\n",
       "      <td>1343000.0</td>\n",
       "    </tr>\n",
       "    <tr>\n",
       "      <th>436</th>\n",
       "      <td>Traditional Weaving</td>\n",
       "      <td>594300.0</td>\n",
       "    </tr>\n",
       "    <tr>\n",
       "      <th>438</th>\n",
       "      <td>Tribal Artisans</td>\n",
       "      <td>500000.0</td>\n",
       "    </tr>\n",
       "    <tr>\n",
       "      <th>11</th>\n",
       "      <td>ABC</td>\n",
       "      <td>500000.0</td>\n",
       "    </tr>\n",
       "    <tr>\n",
       "      <th>511</th>\n",
       "      <td>sdf</td>\n",
       "      <td>360000.0</td>\n",
       "    </tr>\n",
       "    <tr>\n",
       "      <th>340</th>\n",
       "      <td>Papad Making</td>\n",
       "      <td>225000.0</td>\n",
       "    </tr>\n",
       "    <tr>\n",
       "      <th>475</th>\n",
       "      <td>ew</td>\n",
       "      <td>157000.0</td>\n",
       "    </tr>\n",
       "    <tr>\n",
       "      <th>66</th>\n",
       "      <td>Bramin</td>\n",
       "      <td>40000.0</td>\n",
       "    </tr>\n",
       "    <tr>\n",
       "      <th>333</th>\n",
       "      <td>Others</td>\n",
       "      <td>40000.0</td>\n",
       "    </tr>\n",
       "    <tr>\n",
       "      <th>311</th>\n",
       "      <td>Not available</td>\n",
       "      <td>35000.0</td>\n",
       "    </tr>\n",
       "    <tr>\n",
       "      <th>41</th>\n",
       "      <td>Barbour (Nai)</td>\n",
       "      <td>30000.0</td>\n",
       "    </tr>\n",
       "    <tr>\n",
       "      <th>186</th>\n",
       "      <td>Kasar- OBC</td>\n",
       "      <td>30000.0</td>\n",
       "    </tr>\n",
       "    <tr>\n",
       "      <th>79</th>\n",
       "      <td>Chambhar-SC</td>\n",
       "      <td>20000.0</td>\n",
       "    </tr>\n",
       "    <tr>\n",
       "      <th>165</th>\n",
       "      <td>Hindu, Waddar</td>\n",
       "      <td>20000.0</td>\n",
       "    </tr>\n",
       "    <tr>\n",
       "      <th>20</th>\n",
       "      <td>Ambiga</td>\n",
       "      <td>20000.0</td>\n",
       "    </tr>\n",
       "    <tr>\n",
       "      <th>164</th>\n",
       "      <td>Hindu, Kuruba</td>\n",
       "      <td>20000.0</td>\n",
       "    </tr>\n",
       "    <tr>\n",
       "      <th>13</th>\n",
       "      <td>Aachari</td>\n",
       "      <td>20000.0</td>\n",
       "    </tr>\n",
       "    <tr>\n",
       "      <th>144</th>\n",
       "      <td>Golla</td>\n",
       "      <td>20000.0</td>\n",
       "    </tr>\n",
       "    <tr>\n",
       "      <th>55</th>\n",
       "      <td>Bhovi</td>\n",
       "      <td>20000.0</td>\n",
       "    </tr>\n",
       "    <tr>\n",
       "      <th>301</th>\n",
       "      <td>Nayadu</td>\n",
       "      <td>20000.0</td>\n",
       "    </tr>\n",
       "  </tbody>\n",
       "</table>\n",
       "</div>"
      ],
      "text/plain": [
       "            social_class  loan_amount\n",
       "467                 annn    1343000.0\n",
       "436  Traditional Weaving     594300.0\n",
       "438      Tribal Artisans     500000.0\n",
       "11                   ABC     500000.0\n",
       "511                  sdf     360000.0\n",
       "340         Papad Making     225000.0\n",
       "475                   ew     157000.0\n",
       "66                Bramin      40000.0\n",
       "333               Others      40000.0\n",
       "311        Not available      35000.0\n",
       "41         Barbour (Nai)      30000.0\n",
       "186           Kasar- OBC      30000.0\n",
       "79           Chambhar-SC      20000.0\n",
       "165        Hindu, Waddar      20000.0\n",
       "20                Ambiga      20000.0\n",
       "164        Hindu, Kuruba      20000.0\n",
       "13               Aachari      20000.0\n",
       "144                Golla      20000.0\n",
       "55                 Bhovi      20000.0\n",
       "301               Nayadu      20000.0"
      ]
     },
     "execution_count": 48,
     "metadata": {},
     "output_type": "execute_result"
    }
   ],
   "source": [
    "df.groupby(['social_class'])['loan_amount'].agg(np.mean).reset_index().sort_values(by='loan_amount', ascending=False).iloc[:20]\n",
    "\n"
   ]
  },
  {
   "cell_type": "code",
   "execution_count": 49,
   "metadata": {},
   "outputs": [
    {
     "data": {
      "text/plain": [
       "OBC               10683\n",
       "SC                 3136\n",
       "ST                 2616\n",
       "General            2299\n",
       "Muslim             1743\n",
       "S.C                 950\n",
       "Minority            892\n",
       "Hindu               869\n",
       "GC                  807\n",
       "Sechudle Caste      769\n",
       "G.C                 735\n",
       "S.C.                529\n",
       "Sc                  432\n",
       "GEN                 413\n",
       "Obc                 399\n",
       "MUSLIM              375\n",
       "NT                  373\n",
       "BC                  337\n",
       "General Caste       290\n",
       "Gen                 288\n",
       "Name: social_class, dtype: int64"
      ]
     },
     "execution_count": 49,
     "metadata": {},
     "output_type": "execute_result"
    }
   ],
   "source": [
    "df['social_class'].value_counts()[:20]\n"
   ]
  },
  {
   "cell_type": "code",
   "execution_count": null,
   "metadata": {},
   "outputs": [],
   "source": []
  },
  {
   "cell_type": "markdown",
   "metadata": {},
   "source": [
    "### primary_business\n"
   ]
  },
  {
   "cell_type": "code",
   "execution_count": 77,
   "metadata": {},
   "outputs": [
    {
     "data": {
      "text/plain": [
       "array(['Tailoring', 'Beauty salon', 'General store',\n",
       "       'Puffed rice business', 'Poultry farm', 'Tea stall', 'Cow Rearing',\n",
       "       'Vegetable vendor', 'Banana Cultivation', 'Utensils selling',\n",
       "       'Readymade Garments', 'Medical shop', 'Electronic goods shop',\n",
       "       'Milk business', 'Grocery store', 'Carpenter/Wood business',\n",
       "       'Goat rearing', 'Vegetable cultivation', 'Cattle rearing',\n",
       "       'Brick manufacturing unit', 'Buffalo rearing', 'Wet grinding',\n",
       "       'Petty shop', 'Rice business', 'Tiffin center', 'Betel shop',\n",
       "       'Cycle repair shop', 'Bakery', 'Gram cultivation', 'Sweets shop',\n",
       "       'Fancy Store', 'Laundry', 'Provision store', 'Snacks business',\n",
       "       'Beauty parlour', 'Beedi rolling business', 'Eggs selling',\n",
       "       'Embroidery work', 'Helmets selling', 'Auto Rickshaw',\n",
       "       'Fish vendor', 'Artificial Flower Making', 'Paddy cultivation',\n",
       "       'Leaf plate making', 'Stationery Shop', 'Paddy processing',\n",
       "       'Pig rearing', 'Flower Business', 'Saree business',\n",
       "       'Chicken & mutton shop', 'Cloth business', 'Fast Food Stall',\n",
       "       'Black smith', 'Photo studio', 'Broom selling',\n",
       "       'Spices and condiments business', 'Weaver', 'Centering Work',\n",
       "       'Tent House', 'Dry fish selling', 'Bangles business',\n",
       "       'Duck rearing', 'Electronic items repair', 'Labour',\n",
       "       'Hosiery Business', 'Phenol Business',\n",
       "       'Artificial Jewellery Business', 'Hardware Work', 'Milk products',\n",
       "       'Diamond cutting', 'Thread making', 'Ayurvedic herb business',\n",
       "       'Fruits business', 'Flour mill', 'Bandhni work', 'Mechanic',\n",
       "       'Cotton Business', 'Mason', 'Footwear business',\n",
       "       'Bedspread selling', 'Mutton shop', 'Old clothes business',\n",
       "       'Gunny bag sales', 'Papad business', 'Kite making business',\n",
       "       'Envelope making', 'Painting', 'Mini hotel', 'Electrician',\n",
       "       'Fishing net business', 'Pottery making', 'Mosaic work',\n",
       "       'Agarbatti sales', 'Soap selling', 'Cool drinks shop',\n",
       "       'Welding shop', 'Wicks making', 'Drummer', 'Creche',\n",
       "       'Sheep rearing', 'Village level service centre',\n",
       "       'Wooden Apple Beads Making', 'Decoration items sale',\n",
       "       'Handloom Work', 'Rakhi making', 'Box making',\n",
       "       'Jewellery box making', 'Tin Clip Selling', 'Cobbler',\n",
       "       'Tamarind Selling Business', 'Xerox shop', 'Rubber Stamp Making',\n",
       "       'Oil Manufacturing', 'Quilt Making', 'Applique work', 'School',\n",
       "       'Printing press', 'Ice cream sales', 'Coconut Business',\n",
       "       'Coir work', 'Sattu business', 'Pattachitra',\n",
       "       'Non-Timber Forest Products', '11th and 12th',\n",
       "       'Gold polishing work', 'Book store', 'Scrap business',\n",
       "       'Basket making business', 'Construction material leasing',\n",
       "       'Mats business', 'Wallet making', 'Leaf Weaving', 'Crown Making',\n",
       "       'Pushcart Business', 'Fodder business', 'Mushroom cultivation',\n",
       "       'Bamboo craft', 'Bag Making', 'Mobile Accessories', 'Betel Farm',\n",
       "       'Plastic recycling', 'Knitting work', 'Natural Fiber Crafts',\n",
       "       'Processed food business', 'Teacher', 'Toy Store',\n",
       "       'Turmeric Business', 'Polythene Making', 'Private Job',\n",
       "       'Plastic wares', 'Wooden toys business', 'Bird Selling',\n",
       "       'Seeds Business', 'Rickshaw pulling', 'Hardware Store',\n",
       "       'Worship Material Making', 'Tapioca Cultivation',\n",
       "       'Silver Ornaments', 'Broom and basket making', 'Variety Store',\n",
       "       'Upholstery', 'Paper Item Making', 'Fruit juice Shop',\n",
       "       'Palm leaf business', 'Jute Work', 'Umbrella making',\n",
       "       'Fertilisers business', 'Artisan', 'Optician Store',\n",
       "       'Groundnuts business', 'Lottery Store', 'Charcoal Business',\n",
       "       'Oil Vendor', 'Accessories Vendor', 'Transport business',\n",
       "       'Catering business', 'Ironing Shop', 'cassete library',\n",
       "       'Tiles making', 'Cyber cafe', 'Agarbati making and selling',\n",
       "       'Mess Work', 'Milk Business', 'Bicylces', 'Ration Shop',\n",
       "       'Xerox Shop', 'Tea Powder business', 'Fire wood business',\n",
       "       'Pen making', 'Flour Mill', 'Petty Shop', 'Photo Studio',\n",
       "       'Cosmetic Shop', 'Tobacco business', 'Fire Wood Business',\n",
       "       'Business', 'Automobiles', nan, 'Easy recharge of Mobile Phone',\n",
       "       'Detergent Powder Business', 'Goldsmith', 'Cow rearing',\n",
       "       'Photo Framing', 'CD/DVD Seller', 'Women accessories',\n",
       "       'Cash crops', 'Home appliances business', 'Bussiness',\n",
       "       'Agarbati Making', 'Vegitable vending', 'Saree knitting works',\n",
       "       'Ration shop', 'PA systems for rent',\n",
       "       'Surgical instruments making', 'Ice cream stick making',\n",
       "       'Bags manufacturing', 'Furniture Business',\n",
       "       'Forest products selling', 'Coir making', 'Mosquito net selling',\n",
       "       'Dusting brush making', 'Stone carving', 'Contract work',\n",
       "       'Candle Making', 'Distilled water business', 'Plumbing',\n",
       "       'Newspaper Agent', 'Waste Cotton Business', 'Labor work',\n",
       "       'Rabbit rearing', 'Pigeon Rearing', 'PCO booth', 'Juice stall',\n",
       "       'Leaf weaving', 'Tin box making', 'Plastic bag making',\n",
       "       'Bearing Work', 'Solar Ovens Selling',\n",
       "       'Cluster level service centre', 'Door mats business',\n",
       "       'Coconut Art', 'Carpet Weaving', 'Sunglasses selling',\n",
       "       'Hand cart puller', 'Compost business', 'Boat making',\n",
       "       'Candy Business', 'Dolls making', 'Plant nursery',\n",
       "       'Sticker on shoe', 'Leaf plate makin', 'Fish food Business',\n",
       "       'Education Loan', 'Shoe Business', 'Home Appliance Repairs',\n",
       "       'Fish rearing', 'Wicks making(wick of lamp)', 'Stove Making',\n",
       "       'Stone Crushing', 'Training', 'Driver', 'Gram Selling',\n",
       "       'Rangoli color business', 'Rope making', 'College', 'Ki',\n",
       "       'Paint shop', 'Spare parts manufacturers', 'Fireworks making',\n",
       "       'Leather Business', 'Tea powder business', 'Cycle Shop',\n",
       "       'Leaf Selling', 'Limestone Business', 'Poultry feed center',\n",
       "       'Wheat Selling', 'Cushion Work', 'Dona plate making',\n",
       "       'Pan shop Business', 'Professional', 'Grain Selling',\n",
       "       'Welding work',\n",
       "       'Retailing of energy saving & health product in rural area',\n",
       "       'Distilled water processer', 'Jaggery selling',\n",
       "       'Red sugar processing', 'Religious', 'Dry Fruit Selling',\n",
       "       'Sugercane', 'Sugarcane', 'Cable operator', 'cow selling',\n",
       "       'Religious material', 'Refile making', 'Emergency Light making',\n",
       "       'labour work', 'Dog selling business', 'Computer training centre',\n",
       "       'FUNNEL TOOL MAKING', 'Bag Business', 'Vocational Loans',\n",
       "       'BLANKET WEAVING BUSINESS', 'MOTOR BINDING BUSINESS',\n",
       "       'DRY CLEANING BUSINESS', 'JEWELRY WORK', 'Decoration Work',\n",
       "       'Ginger selling', 'MAKING THE IDENTITY CARD BUSINESS',\n",
       "       'ICECREAM BUSINESS', 'Selling milk', 'BREAK FAST SHOP',\n",
       "       'SHOE BUSINESS', 'Producer Group (Artisans)', 'Hotel',\n",
       "       'Cable operating business', 'PAN BISNESS', 'COW BUSINESS',\n",
       "       'Mandapa/ Pendal Decoration', 'Rice Mill', 'Rice mill',\n",
       "       'Fisher woman', 'Water Caltrop Farming', 'Water Caltrop Trader',\n",
       "       'Daily Needs', 'Sellver Smith', 'Screen Painting',\n",
       "       'Solid Waste Management', 'BREAKFAST STALL', 'chat center',\n",
       "       'Chat center', 'CLINIC SHOP', 'Fire wood', 'CD Library Shop',\n",
       "       'SATOO BUSINESS', 'WOOD SELLING', 'Chat Center', 'cable oparater',\n",
       "       'cable operator for TV', 'Cable connection operator for TV',\n",
       "       'Making jewellery purse pouch', 'stiched the gunnybag',\n",
       "       'stationery and xerox machine', 'Cycle Repairing Shop', 'Farmer',\n",
       "       'Community Organization', 'Sugar Processing', 'Wool Knitting',\n",
       "       'Pickle Making', 'Firewood Business', 'Betal Nut Seller',\n",
       "       'Ginger vendor', 'Daily waste collection centre',\n",
       "       'Plastic items vendor', 'Hair saloon',\n",
       "       'For making the furniture in coaching center',\n",
       "       'Making the Cotton Wick', 'making candyfloss', 'Cotton wick work',\n",
       "       'Rent of Decoration Items', 'rent of Vibrate machine',\n",
       "       'Shoes center', 'Silversmith', 'Daily wages', 'Smithy work',\n",
       "       'Firewood', 'tamarind business', 'Leather work', 'Rubber stamp',\n",
       "       'Bentex Jwelary', 'Daily needs', 'sari&cloth', 'Ginder',\n",
       "       'Pump set for watering', 'FUEL OIL SELLING', 'Fabrication',\n",
       "       'Ledies Garment', 'Mat Making', 'Hampered work', 'computer work',\n",
       "       'Mandap Decorating', 'Coaching Center', 'Kirana Shop',\n",
       "       'Light Fitting Work', 'Band Baja shop', 'kirana Shop',\n",
       "       'loading Rickshaw', 'Rangoli sale', 'Travel Business',\n",
       "       'welding work', 'Helath & Personal Care Products Sales',\n",
       "       'Vestige Product Selling', 'Pickles Business',\n",
       "       'Plastic Spoon Paking', 'Ironing clothes', 'Fabrication Business',\n",
       "       'Boots Buisness', 'Bicycle Repair Shop', 'Mandap Decoratinon',\n",
       "       'Battery shop', 'Mandap Decoration', 'Kerosine', 'Sanitation',\n",
       "       'Motor binding', 'Shewai Noodle Making', 'Studio', 'sanitation',\n",
       "       'Mediciene', 'agriculture tools', 'Disposal utensil selling shop',\n",
       "       'Generator Hiring', 'Mandap decoration', 'Dry Waste Management',\n",
       "       'Rice Selling', 'Leaf Carpet Making', 'Betel Shop',\n",
       "       'Chumki stiching', 'Leaf plate Making', 'Tiffin Stall',\n",
       "       'News paper', 'china items.', 'Mixture-Moorhi Lorry',\n",
       "       'Owner of small grocery shop', 'Cashew de-shelling', 'Farmar',\n",
       "       'Screen printing Business', 'Coffee Business',\n",
       "       'Flower cultivation', 'cotton business',\n",
       "       'Collective of small farmers from tribal communities',\n",
       "       'Screen printing', 'Manufacturing Unit', 'Tea Packet Making',\n",
       "       'Cow Feed Selling', 'Centing work', 'Paper cover',\n",
       "       'Balloon Business.', 'Cashew Deshelling', 'thimber work',\n",
       "       'Manufacturing unit',\n",
       "       'Agricultural inputs to small and marginal farmers',\n",
       "       'Marbel Cutting Business', 'Handy craft work'], dtype=object)"
      ]
     },
     "execution_count": 77,
     "metadata": {},
     "output_type": "execute_result"
    }
   ],
   "source": [
    "df['primary_business'].unique()\n"
   ]
  },
  {
   "cell_type": "code",
   "execution_count": 50,
   "metadata": {},
   "outputs": [
    {
     "data": {
      "text/html": [
       "<div>\n",
       "<style scoped>\n",
       "    .dataframe tbody tr th:only-of-type {\n",
       "        vertical-align: middle;\n",
       "    }\n",
       "\n",
       "    .dataframe tbody tr th {\n",
       "        vertical-align: top;\n",
       "    }\n",
       "\n",
       "    .dataframe thead th {\n",
       "        text-align: right;\n",
       "    }\n",
       "</style>\n",
       "<table border=\"1\" class=\"dataframe\">\n",
       "  <thead>\n",
       "    <tr style=\"text-align: right;\">\n",
       "      <th></th>\n",
       "      <th>primary_business</th>\n",
       "      <th>loan_amount</th>\n",
       "    </tr>\n",
       "  </thead>\n",
       "  <tbody>\n",
       "    <tr>\n",
       "      <th>84</th>\n",
       "      <td>Collective of small farmers from tribal commun...</td>\n",
       "      <td>750000.000000</td>\n",
       "    </tr>\n",
       "    <tr>\n",
       "      <th>86</th>\n",
       "      <td>Community Organization</td>\n",
       "      <td>540000.000000</td>\n",
       "    </tr>\n",
       "    <tr>\n",
       "      <th>5</th>\n",
       "      <td>Agricultural inputs to small and marginal farmers</td>\n",
       "      <td>500000.000000</td>\n",
       "    </tr>\n",
       "    <tr>\n",
       "      <th>303</th>\n",
       "      <td>Producer Group (Artisans)</td>\n",
       "      <td>500000.000000</td>\n",
       "    </tr>\n",
       "    <tr>\n",
       "      <th>235</th>\n",
       "      <td>Manufacturing Unit</td>\n",
       "      <td>427600.000000</td>\n",
       "    </tr>\n",
       "    <tr>\n",
       "      <th>...</th>\n",
       "      <td>...</td>\n",
       "      <td>...</td>\n",
       "    </tr>\n",
       "    <tr>\n",
       "      <th>283</th>\n",
       "      <td>Photo Studio</td>\n",
       "      <td>5000.000000</td>\n",
       "    </tr>\n",
       "    <tr>\n",
       "      <th>108</th>\n",
       "      <td>Daily wages</td>\n",
       "      <td>5000.000000</td>\n",
       "    </tr>\n",
       "    <tr>\n",
       "      <th>287</th>\n",
       "      <td>Pig rearing</td>\n",
       "      <td>4755.102041</td>\n",
       "    </tr>\n",
       "    <tr>\n",
       "      <th>259</th>\n",
       "      <td>Non-Timber Forest Products</td>\n",
       "      <td>3533.333333</td>\n",
       "    </tr>\n",
       "    <tr>\n",
       "      <th>400</th>\n",
       "      <td>Vocational Loans</td>\n",
       "      <td>2500.000000</td>\n",
       "    </tr>\n",
       "  </tbody>\n",
       "</table>\n",
       "<p>441 rows × 2 columns</p>\n",
       "</div>"
      ],
      "text/plain": [
       "                                      primary_business    loan_amount\n",
       "84   Collective of small farmers from tribal commun...  750000.000000\n",
       "86                              Community Organization  540000.000000\n",
       "5    Agricultural inputs to small and marginal farmers  500000.000000\n",
       "303                          Producer Group (Artisans)  500000.000000\n",
       "235                                 Manufacturing Unit  427600.000000\n",
       "..                                                 ...            ...\n",
       "283                                       Photo Studio    5000.000000\n",
       "108                                        Daily wages    5000.000000\n",
       "287                                        Pig rearing    4755.102041\n",
       "259                         Non-Timber Forest Products    3533.333333\n",
       "400                                   Vocational Loans    2500.000000\n",
       "\n",
       "[441 rows x 2 columns]"
      ]
     },
     "execution_count": 50,
     "metadata": {},
     "output_type": "execute_result"
    }
   ],
   "source": [
    "df.groupby(['primary_business'])['loan_amount'].agg(np.mean).reset_index().sort_values(by='loan_amount', ascending=False)\n"
   ]
  },
  {
   "cell_type": "code",
   "execution_count": 51,
   "metadata": {},
   "outputs": [
    {
     "data": {
      "text/html": [
       "<div>\n",
       "<style scoped>\n",
       "    .dataframe tbody tr th:only-of-type {\n",
       "        vertical-align: middle;\n",
       "    }\n",
       "\n",
       "    .dataframe tbody tr th {\n",
       "        vertical-align: top;\n",
       "    }\n",
       "\n",
       "    .dataframe thead th {\n",
       "        text-align: right;\n",
       "    }\n",
       "</style>\n",
       "<table border=\"1\" class=\"dataframe\">\n",
       "  <thead>\n",
       "    <tr style=\"text-align: right;\">\n",
       "      <th></th>\n",
       "      <th>primary_business</th>\n",
       "      <th>loan_amount</th>\n",
       "    </tr>\n",
       "  </thead>\n",
       "  <tbody>\n",
       "    <tr>\n",
       "      <th>84</th>\n",
       "      <td>Collective of small farmers from tribal commun...</td>\n",
       "      <td>750000.000000</td>\n",
       "    </tr>\n",
       "    <tr>\n",
       "      <th>86</th>\n",
       "      <td>Community Organization</td>\n",
       "      <td>540000.000000</td>\n",
       "    </tr>\n",
       "    <tr>\n",
       "      <th>5</th>\n",
       "      <td>Agricultural inputs to small and marginal farmers</td>\n",
       "      <td>500000.000000</td>\n",
       "    </tr>\n",
       "    <tr>\n",
       "      <th>303</th>\n",
       "      <td>Producer Group (Artisans)</td>\n",
       "      <td>500000.000000</td>\n",
       "    </tr>\n",
       "    <tr>\n",
       "      <th>235</th>\n",
       "      <td>Manufacturing Unit</td>\n",
       "      <td>427600.000000</td>\n",
       "    </tr>\n",
       "    <tr>\n",
       "      <th>236</th>\n",
       "      <td>Manufacturing unit</td>\n",
       "      <td>292400.000000</td>\n",
       "    </tr>\n",
       "    <tr>\n",
       "      <th>139</th>\n",
       "      <td>Fabrication</td>\n",
       "      <td>135000.000000</td>\n",
       "    </tr>\n",
       "    <tr>\n",
       "      <th>140</th>\n",
       "      <td>Fabrication Business</td>\n",
       "      <td>100000.000000</td>\n",
       "    </tr>\n",
       "    <tr>\n",
       "      <th>204</th>\n",
       "      <td>Jute Work</td>\n",
       "      <td>62750.000000</td>\n",
       "    </tr>\n",
       "    <tr>\n",
       "      <th>387</th>\n",
       "      <td>Training</td>\n",
       "      <td>53826.086957</td>\n",
       "    </tr>\n",
       "    <tr>\n",
       "      <th>124</th>\n",
       "      <td>Dry Waste Management</td>\n",
       "      <td>50000.000000</td>\n",
       "    </tr>\n",
       "    <tr>\n",
       "      <th>109</th>\n",
       "      <td>Daily waste collection centre</td>\n",
       "      <td>42500.000000</td>\n",
       "    </tr>\n",
       "    <tr>\n",
       "      <th>355</th>\n",
       "      <td>Solid Waste Management</td>\n",
       "      <td>36250.000000</td>\n",
       "    </tr>\n",
       "    <tr>\n",
       "      <th>322</th>\n",
       "      <td>Retailing of energy saving &amp; health product in...</td>\n",
       "      <td>30000.000000</td>\n",
       "    </tr>\n",
       "    <tr>\n",
       "      <th>76</th>\n",
       "      <td>Cluster level service centre</td>\n",
       "      <td>30000.000000</td>\n",
       "    </tr>\n",
       "    <tr>\n",
       "      <th>9</th>\n",
       "      <td>Artisan</td>\n",
       "      <td>25354.838710</td>\n",
       "    </tr>\n",
       "    <tr>\n",
       "      <th>354</th>\n",
       "      <td>Solar Ovens Selling</td>\n",
       "      <td>19791.666667</td>\n",
       "    </tr>\n",
       "    <tr>\n",
       "      <th>135</th>\n",
       "      <td>Emergency Light making</td>\n",
       "      <td>15000.000000</td>\n",
       "    </tr>\n",
       "    <tr>\n",
       "      <th>233</th>\n",
       "      <td>Mandap decoration</td>\n",
       "      <td>15000.000000</td>\n",
       "    </tr>\n",
       "    <tr>\n",
       "      <th>222</th>\n",
       "      <td>Ledies Garment</td>\n",
       "      <td>15000.000000</td>\n",
       "    </tr>\n",
       "  </tbody>\n",
       "</table>\n",
       "</div>"
      ],
      "text/plain": [
       "                                      primary_business    loan_amount\n",
       "84   Collective of small farmers from tribal commun...  750000.000000\n",
       "86                              Community Organization  540000.000000\n",
       "5    Agricultural inputs to small and marginal farmers  500000.000000\n",
       "303                          Producer Group (Artisans)  500000.000000\n",
       "235                                 Manufacturing Unit  427600.000000\n",
       "236                                 Manufacturing unit  292400.000000\n",
       "139                                        Fabrication  135000.000000\n",
       "140                               Fabrication Business  100000.000000\n",
       "204                                          Jute Work   62750.000000\n",
       "387                                           Training   53826.086957\n",
       "124                               Dry Waste Management   50000.000000\n",
       "109                      Daily waste collection centre   42500.000000\n",
       "355                             Solid Waste Management   36250.000000\n",
       "322  Retailing of energy saving & health product in...   30000.000000\n",
       "76                        Cluster level service centre   30000.000000\n",
       "9                                              Artisan   25354.838710\n",
       "354                                Solar Ovens Selling   19791.666667\n",
       "135                             Emergency Light making   15000.000000\n",
       "233                                  Mandap decoration   15000.000000\n",
       "222                                     Ledies Garment   15000.000000"
      ]
     },
     "execution_count": 51,
     "metadata": {},
     "output_type": "execute_result"
    }
   ],
   "source": [
    "df.groupby(['primary_business'])['loan_amount'].agg(np.mean).reset_index().sort_values(by='loan_amount', ascending=False).iloc[:20]\n"
   ]
  },
  {
   "cell_type": "code",
   "execution_count": 53,
   "metadata": {},
   "outputs": [
    {
     "data": {
      "text/plain": [
       "Tailoring                3971\n",
       "Goat rearing             2268\n",
       "Cow Rearing              2077\n",
       "Handloom Work            2068\n",
       "Vegetable cultivation    1704\n",
       "Grocery store            1369\n",
       "School                   1332\n",
       "Milk business            1310\n",
       "Vegetable vendor         1174\n",
       "Weaver                   1157\n",
       "Saree business           1000\n",
       "Embroidery work           942\n",
       "Fish rearing              735\n",
       "Poultry farm              726\n",
       "Rice business             678\n",
       "General store             661\n",
       "Cloth business            609\n",
       "Paddy cultivation         594\n",
       "Education Loan            557\n",
       "Buffalo rearing           500\n",
       "Name: primary_business, dtype: int64"
      ]
     },
     "execution_count": 53,
     "metadata": {},
     "output_type": "execute_result"
    }
   ],
   "source": [
    "df['primary_business'].value_counts()[:20]\n"
   ]
  },
  {
   "cell_type": "code",
   "execution_count": null,
   "metadata": {},
   "outputs": [],
   "source": []
  },
  {
   "cell_type": "markdown",
   "metadata": {},
   "source": [
    "### secondary_business\n"
   ]
  },
  {
   "cell_type": "code",
   "execution_count": 55,
   "metadata": {},
   "outputs": [
    {
     "data": {
      "text/plain": [
       "array(['Others', 'none', 'Agriculture', 'Daily wage labourer',\n",
       "       'Livestock rearing', nan], dtype=object)"
      ]
     },
     "execution_count": 55,
     "metadata": {},
     "output_type": "execute_result"
    }
   ],
   "source": [
    "df['secondary_business'].unique()\n"
   ]
  },
  {
   "cell_type": "code",
   "execution_count": 57,
   "metadata": {},
   "outputs": [
    {
     "data": {
      "image/png": "[encoded data removed]",
      "text/plain": [
       "<Figure size 864x288 with 1 Axes>"
      ]
     },
     "metadata": {
      "needs_background": "light"
     },
     "output_type": "display_data"
    }
   ],
   "source": [
    "fig = plt.figure(figsize=(12, 4))\n",
    "sns.countplot(x='secondary_business', data=df)\n",
    "plt.xticks(rotation=90)\n",
    "plt.ylabel('Frequency')\n",
    "plt.show()\n"
   ]
  },
  {
   "cell_type": "code",
   "execution_count": 56,
   "metadata": {},
   "outputs": [
    {
     "data": {
      "image/png": "[encoded data removed]",
      "text/plain": [
       "<Figure size 720x432 with 1 Axes>"
      ]
     },
     "metadata": {
      "needs_background": "light"
     },
     "output_type": "display_data"
    }
   ],
   "source": [
    "var = df['secondary_business']\n",
    "f, ax = plt.subplots(figsize=(10,6))\n",
    "sns.boxplot(y=df['loan_amount'], x=var)\n",
    "plt.show()\n"
   ]
  },
  {
   "cell_type": "code",
   "execution_count": 78,
   "metadata": {},
   "outputs": [
    {
     "data": {
      "image/png": "[encoded data removed]",
      "text/plain": [
       "<Figure size 720x432 with 1 Axes>"
      ]
     },
     "metadata": {
      "needs_background": "light"
     },
     "output_type": "display_data"
    }
   ],
   "source": [
    "var = df['secondary_business']\n",
    "f, ax = plt.subplots(figsize=(10,6))\n",
    "sns.boxplot(y=np.log(df['loan_amount']), x=var)\n",
    "plt.show()\n"
   ]
  },
  {
   "cell_type": "code",
   "execution_count": 59,
   "metadata": {},
   "outputs": [
    {
     "data": {
      "text/html": [
       "<div>\n",
       "<style scoped>\n",
       "    .dataframe tbody tr th:only-of-type {\n",
       "        vertical-align: middle;\n",
       "    }\n",
       "\n",
       "    .dataframe tbody tr th {\n",
       "        vertical-align: top;\n",
       "    }\n",
       "\n",
       "    .dataframe thead th {\n",
       "        text-align: right;\n",
       "    }\n",
       "</style>\n",
       "<table border=\"1\" class=\"dataframe\">\n",
       "  <thead>\n",
       "    <tr style=\"text-align: right;\">\n",
       "      <th></th>\n",
       "      <th>secondary_business</th>\n",
       "      <th>loan_amount</th>\n",
       "    </tr>\n",
       "  </thead>\n",
       "  <tbody>\n",
       "    <tr>\n",
       "      <th>4</th>\n",
       "      <td>none</td>\n",
       "      <td>9117.021121</td>\n",
       "    </tr>\n",
       "    <tr>\n",
       "      <th>0</th>\n",
       "      <td>Agriculture</td>\n",
       "      <td>8677.909739</td>\n",
       "    </tr>\n",
       "    <tr>\n",
       "      <th>3</th>\n",
       "      <td>Others</td>\n",
       "      <td>8349.960998</td>\n",
       "    </tr>\n",
       "    <tr>\n",
       "      <th>1</th>\n",
       "      <td>Daily wage labourer</td>\n",
       "      <td>7191.552063</td>\n",
       "    </tr>\n",
       "    <tr>\n",
       "      <th>2</th>\n",
       "      <td>Livestock rearing</td>\n",
       "      <td>6256.983240</td>\n",
       "    </tr>\n",
       "  </tbody>\n",
       "</table>\n",
       "</div>"
      ],
      "text/plain": [
       "    secondary_business  loan_amount\n",
       "4                 none  9117.021121\n",
       "0          Agriculture  8677.909739\n",
       "3               Others  8349.960998\n",
       "1  Daily wage labourer  7191.552063\n",
       "2    Livestock rearing  6256.983240"
      ]
     },
     "execution_count": 59,
     "metadata": {},
     "output_type": "execute_result"
    }
   ],
   "source": [
    "df.groupby(['secondary_business'])['loan_amount'].agg(np.mean).reset_index().sort_values(by='loan_amount', ascending=False)\n"
   ]
  },
  {
   "cell_type": "code",
   "execution_count": 62,
   "metadata": {},
   "outputs": [
    {
     "data": {
      "text/html": [
       "<div>\n",
       "<style scoped>\n",
       "    .dataframe tbody tr th:only-of-type {\n",
       "        vertical-align: middle;\n",
       "    }\n",
       "\n",
       "    .dataframe tbody tr th {\n",
       "        vertical-align: top;\n",
       "    }\n",
       "\n",
       "    .dataframe thead th {\n",
       "        text-align: right;\n",
       "    }\n",
       "</style>\n",
       "<table border=\"1\" class=\"dataframe\">\n",
       "  <thead>\n",
       "    <tr style=\"text-align: right;\">\n",
       "      <th></th>\n",
       "      <th>secondary_business</th>\n",
       "      <th>loan_amount</th>\n",
       "    </tr>\n",
       "  </thead>\n",
       "  <tbody>\n",
       "    <tr>\n",
       "      <th>0</th>\n",
       "      <td>Agriculture</td>\n",
       "      <td>31331.351319</td>\n",
       "    </tr>\n",
       "    <tr>\n",
       "      <th>4</th>\n",
       "      <td>none</td>\n",
       "      <td>13448.697211</td>\n",
       "    </tr>\n",
       "    <tr>\n",
       "      <th>1</th>\n",
       "      <td>Daily wage labourer</td>\n",
       "      <td>10069.635071</td>\n",
       "    </tr>\n",
       "    <tr>\n",
       "      <th>3</th>\n",
       "      <td>Others</td>\n",
       "      <td>3547.400998</td>\n",
       "    </tr>\n",
       "    <tr>\n",
       "      <th>2</th>\n",
       "      <td>Livestock rearing</td>\n",
       "      <td>2061.115073</td>\n",
       "    </tr>\n",
       "  </tbody>\n",
       "</table>\n",
       "</div>"
      ],
      "text/plain": [
       "    secondary_business   loan_amount\n",
       "0          Agriculture  31331.351319\n",
       "4                 none  13448.697211\n",
       "1  Daily wage labourer  10069.635071\n",
       "3               Others   3547.400998\n",
       "2    Livestock rearing   2061.115073"
      ]
     },
     "execution_count": 62,
     "metadata": {},
     "output_type": "execute_result"
    }
   ],
   "source": [
    "df.groupby(['secondary_business'])['loan_amount'].agg(np.std).reset_index().sort_values(by='loan_amount', ascending=False)\n"
   ]
  },
  {
   "cell_type": "code",
   "execution_count": null,
   "metadata": {},
   "outputs": [],
   "source": []
  },
  {
   "cell_type": "markdown",
   "metadata": {},
   "source": [
    "### type_of_house\n"
   ]
  },
  {
   "cell_type": "code",
   "execution_count": 63,
   "metadata": {},
   "outputs": [
    {
     "data": {
      "text/plain": [
       "array(['R', 'T1', 'T2', nan], dtype=object)"
      ]
     },
     "execution_count": 63,
     "metadata": {},
     "output_type": "execute_result"
    }
   ],
   "source": [
    "df['type_of_house'].unique()\n"
   ]
  },
  {
   "cell_type": "code",
   "execution_count": 64,
   "metadata": {},
   "outputs": [
    {
     "data": {
      "image/png": "[encoded data removed]",
      "text/plain": [
       "<Figure size 864x288 with 1 Axes>"
      ]
     },
     "metadata": {
      "needs_background": "light"
     },
     "output_type": "display_data"
    }
   ],
   "source": [
    "fig = plt.figure(figsize=(12, 4))\n",
    "sns.countplot(x='type_of_house', data=df)\n",
    "plt.xticks(rotation=90)\n",
    "plt.ylabel('Frequency')\n",
    "plt.show()\n"
   ]
  },
  {
   "cell_type": "code",
   "execution_count": 65,
   "metadata": {},
   "outputs": [
    {
     "data": {
      "image/png": "[encoded data removed]",
      "text/plain": [
       "<Figure size 720x432 with 1 Axes>"
      ]
     },
     "metadata": {
      "needs_background": "light"
     },
     "output_type": "display_data"
    }
   ],
   "source": [
    "var = df['type_of_house']\n",
    "f, ax = plt.subplots(figsize=(10,6))\n",
    "sns.boxplot(y=df['loan_amount'], x=var)\n",
    "plt.show()\n"
   ]
  },
  {
   "cell_type": "code",
   "execution_count": 79,
   "metadata": {},
   "outputs": [
    {
     "data": {
      "image/png": "[encoded data removed]",
      "text/plain": [
       "<Figure size 720x432 with 1 Axes>"
      ]
     },
     "metadata": {
      "needs_background": "light"
     },
     "output_type": "display_data"
    }
   ],
   "source": [
    "var = df['type_of_house']\n",
    "f, ax = plt.subplots(figsize=(10,6))\n",
    "sns.boxplot(y=np.log(df['loan_amount']), x=var)\n",
    "plt.show()\n"
   ]
  },
  {
   "cell_type": "code",
   "execution_count": 66,
   "metadata": {},
   "outputs": [
    {
     "data": {
      "text/html": [
       "<div>\n",
       "<style scoped>\n",
       "    .dataframe tbody tr th:only-of-type {\n",
       "        vertical-align: middle;\n",
       "    }\n",
       "\n",
       "    .dataframe tbody tr th {\n",
       "        vertical-align: top;\n",
       "    }\n",
       "\n",
       "    .dataframe thead th {\n",
       "        text-align: right;\n",
       "    }\n",
       "</style>\n",
       "<table border=\"1\" class=\"dataframe\">\n",
       "  <thead>\n",
       "    <tr style=\"text-align: right;\">\n",
       "      <th></th>\n",
       "      <th>type_of_house</th>\n",
       "      <th>loan_amount</th>\n",
       "    </tr>\n",
       "  </thead>\n",
       "  <tbody>\n",
       "    <tr>\n",
       "      <th>0</th>\n",
       "      <td>R</td>\n",
       "      <td>9531.943376</td>\n",
       "    </tr>\n",
       "    <tr>\n",
       "      <th>2</th>\n",
       "      <td>T2</td>\n",
       "      <td>8266.610217</td>\n",
       "    </tr>\n",
       "    <tr>\n",
       "      <th>1</th>\n",
       "      <td>T1</td>\n",
       "      <td>8182.520541</td>\n",
       "    </tr>\n",
       "  </tbody>\n",
       "</table>\n",
       "</div>"
      ],
      "text/plain": [
       "  type_of_house  loan_amount\n",
       "0             R  9531.943376\n",
       "2            T2  8266.610217\n",
       "1            T1  8182.520541"
      ]
     },
     "execution_count": 66,
     "metadata": {},
     "output_type": "execute_result"
    }
   ],
   "source": [
    "df.groupby(['type_of_house'])['loan_amount'].agg(np.mean).reset_index().sort_values(by='loan_amount', ascending=False)\n"
   ]
  },
  {
   "cell_type": "code",
   "execution_count": 67,
   "metadata": {},
   "outputs": [
    {
     "data": {
      "text/html": [
       "<div>\n",
       "<style scoped>\n",
       "    .dataframe tbody tr th:only-of-type {\n",
       "        vertical-align: middle;\n",
       "    }\n",
       "\n",
       "    .dataframe tbody tr th {\n",
       "        vertical-align: top;\n",
       "    }\n",
       "\n",
       "    .dataframe thead th {\n",
       "        text-align: right;\n",
       "    }\n",
       "</style>\n",
       "<table border=\"1\" class=\"dataframe\">\n",
       "  <thead>\n",
       "    <tr style=\"text-align: right;\">\n",
       "      <th></th>\n",
       "      <th>type_of_house</th>\n",
       "      <th>loan_amount</th>\n",
       "    </tr>\n",
       "  </thead>\n",
       "  <tbody>\n",
       "    <tr>\n",
       "      <th>0</th>\n",
       "      <td>R</td>\n",
       "      <td>28629.859362</td>\n",
       "    </tr>\n",
       "    <tr>\n",
       "      <th>1</th>\n",
       "      <td>T1</td>\n",
       "      <td>9566.859644</td>\n",
       "    </tr>\n",
       "    <tr>\n",
       "      <th>2</th>\n",
       "      <td>T2</td>\n",
       "      <td>6141.025555</td>\n",
       "    </tr>\n",
       "  </tbody>\n",
       "</table>\n",
       "</div>"
      ],
      "text/plain": [
       "  type_of_house   loan_amount\n",
       "0             R  28629.859362\n",
       "1            T1   9566.859644\n",
       "2            T2   6141.025555"
      ]
     },
     "execution_count": 67,
     "metadata": {},
     "output_type": "execute_result"
    }
   ],
   "source": [
    "df.groupby(['type_of_house'])['loan_amount'].agg(np.std).reset_index().sort_values(by='loan_amount', ascending=False)\n"
   ]
  },
  {
   "cell_type": "code",
   "execution_count": null,
   "metadata": {},
   "outputs": [],
   "source": []
  },
  {
   "cell_type": "markdown",
   "metadata": {},
   "source": [
    "### loan_purpose\n"
   ]
  },
  {
   "cell_type": "code",
   "execution_count": 68,
   "metadata": {},
   "outputs": [
    {
     "data": {
      "text/plain": [
       "array(['Apparels', 'Beauty Salon', 'Retail Store', 'Eateries',\n",
       "       'Meat Businesses', 'Animal husbandry', 'Agro Based Businesses',\n",
       "       'Farming/ Agriculture', 'Retail Sale', 'Carpentery work',\n",
       "       'Construction Related Activities', 'Business Services - II',\n",
       "       'Tobacco Related Activities', 'Repair Services',\n",
       "       'Laundry Services', 'Food Items', 'Handicrafts',\n",
       "       'Business Services - I', 'Transportation Services',\n",
       "       'Flower Business', 'Artifical Jewellry Selling', 'Jewellry Shop',\n",
       "       'Agarbatti Business', 'Miscellaneous', 'Education Loan',\n",
       "       'Recycling/ Waste Management', 'Tuition Centre', 'Utensil Selling',\n",
       "       'Cyber Caf_', 'Others', nan, 'Training', 'Professional',\n",
       "       'Cable TV Services', 'Vocational Loans', 'Tent Services',\n",
       "       'Sanitation', 'Manufacturing'], dtype=object)"
      ]
     },
     "execution_count": 68,
     "metadata": {},
     "output_type": "execute_result"
    }
   ],
   "source": [
    "df['loan_purpose'].unique()"
   ]
  },
  {
   "cell_type": "code",
   "execution_count": 71,
   "metadata": {},
   "outputs": [
    {
     "data": {
      "image/png": "[encoded data removed]",
      "text/plain": [
       "<Figure size 864x288 with 1 Axes>"
      ]
     },
     "metadata": {
      "needs_background": "light"
     },
     "output_type": "display_data"
    }
   ],
   "source": [
    "fig = plt.figure(figsize=(12, 4))\n",
    "sns.countplot(x='loan_purpose', data=df)\n",
    "plt.xticks(rotation=90)\n",
    "plt.ylabel('Frequency')\n",
    "plt.show()\n"
   ]
  },
  {
   "cell_type": "code",
   "execution_count": 80,
   "metadata": {},
   "outputs": [
    {
     "data": {
      "image/png": "[encoded data removed]",
      "text/plain": [
       "<Figure size 720x432 with 1 Axes>"
      ]
     },
     "metadata": {
      "needs_background": "light"
     },
     "output_type": "display_data"
    }
   ],
   "source": [
    "var = df['loan_purpose']\n",
    "f, ax = plt.subplots(figsize=(10,6))\n",
    "sns.boxplot(y=np.log(df['loan_amount']), x=var)\n",
    "plt.show()\n"
   ]
  },
  {
   "cell_type": "code",
   "execution_count": 73,
   "metadata": {},
   "outputs": [
    {
     "data": {
      "text/html": [
       "<div>\n",
       "<style scoped>\n",
       "    .dataframe tbody tr th:only-of-type {\n",
       "        vertical-align: middle;\n",
       "    }\n",
       "\n",
       "    .dataframe tbody tr th {\n",
       "        vertical-align: top;\n",
       "    }\n",
       "\n",
       "    .dataframe thead th {\n",
       "        text-align: right;\n",
       "    }\n",
       "</style>\n",
       "<table border=\"1\" class=\"dataframe\">\n",
       "  <thead>\n",
       "    <tr style=\"text-align: right;\">\n",
       "      <th></th>\n",
       "      <th>loan_purpose</th>\n",
       "      <th>loan_amount</th>\n",
       "    </tr>\n",
       "  </thead>\n",
       "  <tbody>\n",
       "    <tr>\n",
       "      <th>20</th>\n",
       "      <td>Manufacturing</td>\n",
       "      <td>292400.000000</td>\n",
       "    </tr>\n",
       "    <tr>\n",
       "      <th>32</th>\n",
       "      <td>Training</td>\n",
       "      <td>53826.086957</td>\n",
       "    </tr>\n",
       "    <tr>\n",
       "      <th>23</th>\n",
       "      <td>Others</td>\n",
       "      <td>17693.548387</td>\n",
       "    </tr>\n",
       "    <tr>\n",
       "      <th>29</th>\n",
       "      <td>Sanitation</td>\n",
       "      <td>12600.000000</td>\n",
       "    </tr>\n",
       "    <tr>\n",
       "      <th>30</th>\n",
       "      <td>Tent Services</td>\n",
       "      <td>12500.000000</td>\n",
       "    </tr>\n",
       "    <tr>\n",
       "      <th>25</th>\n",
       "      <td>Recycling/ Waste Management</td>\n",
       "      <td>12100.000000</td>\n",
       "    </tr>\n",
       "    <tr>\n",
       "      <th>24</th>\n",
       "      <td>Professional</td>\n",
       "      <td>10000.000000</td>\n",
       "    </tr>\n",
       "    <tr>\n",
       "      <th>17</th>\n",
       "      <td>Handicrafts</td>\n",
       "      <td>9986.666667</td>\n",
       "    </tr>\n",
       "    <tr>\n",
       "      <th>13</th>\n",
       "      <td>Education Loan</td>\n",
       "      <td>9570.761905</td>\n",
       "    </tr>\n",
       "    <tr>\n",
       "      <th>11</th>\n",
       "      <td>Cyber Caf_</td>\n",
       "      <td>9071.428571</td>\n",
       "    </tr>\n",
       "    <tr>\n",
       "      <th>7</th>\n",
       "      <td>Business Services - II</td>\n",
       "      <td>8968.384075</td>\n",
       "    </tr>\n",
       "    <tr>\n",
       "      <th>15</th>\n",
       "      <td>Flower Business</td>\n",
       "      <td>8701.680672</td>\n",
       "    </tr>\n",
       "    <tr>\n",
       "      <th>3</th>\n",
       "      <td>Apparels</td>\n",
       "      <td>8627.477350</td>\n",
       "    </tr>\n",
       "    <tr>\n",
       "      <th>34</th>\n",
       "      <td>Tuition Centre</td>\n",
       "      <td>8333.333333</td>\n",
       "    </tr>\n",
       "    <tr>\n",
       "      <th>35</th>\n",
       "      <td>Utensil Selling</td>\n",
       "      <td>8326.923077</td>\n",
       "    </tr>\n",
       "    <tr>\n",
       "      <th>1</th>\n",
       "      <td>Agro Based Businesses</td>\n",
       "      <td>8253.859167</td>\n",
       "    </tr>\n",
       "    <tr>\n",
       "      <th>19</th>\n",
       "      <td>Laundry Services</td>\n",
       "      <td>8206.790123</td>\n",
       "    </tr>\n",
       "    <tr>\n",
       "      <th>2</th>\n",
       "      <td>Animal husbandry</td>\n",
       "      <td>8188.305813</td>\n",
       "    </tr>\n",
       "    <tr>\n",
       "      <th>12</th>\n",
       "      <td>Eateries</td>\n",
       "      <td>8142.162753</td>\n",
       "    </tr>\n",
       "    <tr>\n",
       "      <th>27</th>\n",
       "      <td>Retail Sale</td>\n",
       "      <td>8089.902280</td>\n",
       "    </tr>\n",
       "    <tr>\n",
       "      <th>14</th>\n",
       "      <td>Farming/ Agriculture</td>\n",
       "      <td>8034.713764</td>\n",
       "    </tr>\n",
       "    <tr>\n",
       "      <th>10</th>\n",
       "      <td>Construction Related Activities</td>\n",
       "      <td>7971.406959</td>\n",
       "    </tr>\n",
       "    <tr>\n",
       "      <th>4</th>\n",
       "      <td>Artifical Jewellry Selling</td>\n",
       "      <td>7827.158273</td>\n",
       "    </tr>\n",
       "    <tr>\n",
       "      <th>16</th>\n",
       "      <td>Food Items</td>\n",
       "      <td>7805.263158</td>\n",
       "    </tr>\n",
       "    <tr>\n",
       "      <th>5</th>\n",
       "      <td>Beauty Salon</td>\n",
       "      <td>7767.156863</td>\n",
       "    </tr>\n",
       "    <tr>\n",
       "      <th>31</th>\n",
       "      <td>Tobacco Related Activities</td>\n",
       "      <td>7719.812427</td>\n",
       "    </tr>\n",
       "    <tr>\n",
       "      <th>18</th>\n",
       "      <td>Jewellry Shop</td>\n",
       "      <td>7666.666667</td>\n",
       "    </tr>\n",
       "    <tr>\n",
       "      <th>26</th>\n",
       "      <td>Repair Services</td>\n",
       "      <td>7604.166667</td>\n",
       "    </tr>\n",
       "    <tr>\n",
       "      <th>8</th>\n",
       "      <td>Cable TV Services</td>\n",
       "      <td>7600.000000</td>\n",
       "    </tr>\n",
       "    <tr>\n",
       "      <th>6</th>\n",
       "      <td>Business Services - I</td>\n",
       "      <td>7592.391304</td>\n",
       "    </tr>\n",
       "    <tr>\n",
       "      <th>33</th>\n",
       "      <td>Transportation Services</td>\n",
       "      <td>7559.183673</td>\n",
       "    </tr>\n",
       "    <tr>\n",
       "      <th>21</th>\n",
       "      <td>Meat Businesses</td>\n",
       "      <td>7320.897257</td>\n",
       "    </tr>\n",
       "    <tr>\n",
       "      <th>0</th>\n",
       "      <td>Agarbatti Business</td>\n",
       "      <td>7219.626168</td>\n",
       "    </tr>\n",
       "    <tr>\n",
       "      <th>28</th>\n",
       "      <td>Retail Store</td>\n",
       "      <td>7149.516047</td>\n",
       "    </tr>\n",
       "    <tr>\n",
       "      <th>9</th>\n",
       "      <td>Carpentery work</td>\n",
       "      <td>6946.488294</td>\n",
       "    </tr>\n",
       "    <tr>\n",
       "      <th>22</th>\n",
       "      <td>Miscellaneous</td>\n",
       "      <td>6921.052632</td>\n",
       "    </tr>\n",
       "    <tr>\n",
       "      <th>36</th>\n",
       "      <td>Vocational Loans</td>\n",
       "      <td>2500.000000</td>\n",
       "    </tr>\n",
       "  </tbody>\n",
       "</table>\n",
       "</div>"
      ],
      "text/plain": [
       "                       loan_purpose    loan_amount\n",
       "20                    Manufacturing  292400.000000\n",
       "32                         Training   53826.086957\n",
       "23                           Others   17693.548387\n",
       "29                       Sanitation   12600.000000\n",
       "30                    Tent Services   12500.000000\n",
       "25      Recycling/ Waste Management   12100.000000\n",
       "24                     Professional   10000.000000\n",
       "17                      Handicrafts    9986.666667\n",
       "13                   Education Loan    9570.761905\n",
       "11                       Cyber Caf_    9071.428571\n",
       "7            Business Services - II    8968.384075\n",
       "15                  Flower Business    8701.680672\n",
       "3                          Apparels    8627.477350\n",
       "34                   Tuition Centre    8333.333333\n",
       "35                  Utensil Selling    8326.923077\n",
       "1             Agro Based Businesses    8253.859167\n",
       "19                 Laundry Services    8206.790123\n",
       "2                  Animal husbandry    8188.305813\n",
       "12                         Eateries    8142.162753\n",
       "27                      Retail Sale    8089.902280\n",
       "14             Farming/ Agriculture    8034.713764\n",
       "10  Construction Related Activities    7971.406959\n",
       "4        Artifical Jewellry Selling    7827.158273\n",
       "16                       Food Items    7805.263158\n",
       "5                      Beauty Salon    7767.156863\n",
       "31       Tobacco Related Activities    7719.812427\n",
       "18                    Jewellry Shop    7666.666667\n",
       "26                  Repair Services    7604.166667\n",
       "8                 Cable TV Services    7600.000000\n",
       "6             Business Services - I    7592.391304\n",
       "33          Transportation Services    7559.183673\n",
       "21                  Meat Businesses    7320.897257\n",
       "0                Agarbatti Business    7219.626168\n",
       "28                     Retail Store    7149.516047\n",
       "9                   Carpentery work    6946.488294\n",
       "22                    Miscellaneous    6921.052632\n",
       "36                 Vocational Loans    2500.000000"
      ]
     },
     "execution_count": 73,
     "metadata": {},
     "output_type": "execute_result"
    }
   ],
   "source": [
    "df.groupby(['loan_purpose'])['loan_amount'].agg(np.mean).reset_index().sort_values(by='loan_amount', ascending=False)\n"
   ]
  },
  {
   "cell_type": "code",
   "execution_count": 74,
   "metadata": {},
   "outputs": [
    {
     "data": {
      "text/html": [
       "<div>\n",
       "<style scoped>\n",
       "    .dataframe tbody tr th:only-of-type {\n",
       "        vertical-align: middle;\n",
       "    }\n",
       "\n",
       "    .dataframe tbody tr th {\n",
       "        vertical-align: top;\n",
       "    }\n",
       "\n",
       "    .dataframe thead th {\n",
       "        text-align: right;\n",
       "    }\n",
       "</style>\n",
       "<table border=\"1\" class=\"dataframe\">\n",
       "  <thead>\n",
       "    <tr style=\"text-align: right;\">\n",
       "      <th></th>\n",
       "      <th>loan_purpose</th>\n",
       "      <th>loan_amount</th>\n",
       "    </tr>\n",
       "  </thead>\n",
       "  <tbody>\n",
       "    <tr>\n",
       "      <th>23</th>\n",
       "      <td>Others</td>\n",
       "      <td>67548.546892</td>\n",
       "    </tr>\n",
       "    <tr>\n",
       "      <th>32</th>\n",
       "      <td>Training</td>\n",
       "      <td>45769.831443</td>\n",
       "    </tr>\n",
       "    <tr>\n",
       "      <th>1</th>\n",
       "      <td>Agro Based Businesses</td>\n",
       "      <td>21012.116358</td>\n",
       "    </tr>\n",
       "    <tr>\n",
       "      <th>3</th>\n",
       "      <td>Apparels</td>\n",
       "      <td>20568.192202</td>\n",
       "    </tr>\n",
       "    <tr>\n",
       "      <th>17</th>\n",
       "      <td>Handicrafts</td>\n",
       "      <td>18012.291907</td>\n",
       "    </tr>\n",
       "    <tr>\n",
       "      <th>25</th>\n",
       "      <td>Recycling/ Waste Management</td>\n",
       "      <td>11159.767204</td>\n",
       "    </tr>\n",
       "    <tr>\n",
       "      <th>12</th>\n",
       "      <td>Eateries</td>\n",
       "      <td>9851.145811</td>\n",
       "    </tr>\n",
       "    <tr>\n",
       "      <th>10</th>\n",
       "      <td>Construction Related Activities</td>\n",
       "      <td>8376.786973</td>\n",
       "    </tr>\n",
       "    <tr>\n",
       "      <th>13</th>\n",
       "      <td>Education Loan</td>\n",
       "      <td>5169.760573</td>\n",
       "    </tr>\n",
       "    <tr>\n",
       "      <th>11</th>\n",
       "      <td>Cyber Caf_</td>\n",
       "      <td>4246.847570</td>\n",
       "    </tr>\n",
       "    <tr>\n",
       "      <th>27</th>\n",
       "      <td>Retail Sale</td>\n",
       "      <td>3808.207286</td>\n",
       "    </tr>\n",
       "    <tr>\n",
       "      <th>34</th>\n",
       "      <td>Tuition Centre</td>\n",
       "      <td>3511.884584</td>\n",
       "    </tr>\n",
       "    <tr>\n",
       "      <th>31</th>\n",
       "      <td>Tobacco Related Activities</td>\n",
       "      <td>3253.841206</td>\n",
       "    </tr>\n",
       "    <tr>\n",
       "      <th>2</th>\n",
       "      <td>Animal husbandry</td>\n",
       "      <td>3235.489200</td>\n",
       "    </tr>\n",
       "    <tr>\n",
       "      <th>15</th>\n",
       "      <td>Flower Business</td>\n",
       "      <td>3221.643137</td>\n",
       "    </tr>\n",
       "    <tr>\n",
       "      <th>6</th>\n",
       "      <td>Business Services - I</td>\n",
       "      <td>3195.595845</td>\n",
       "    </tr>\n",
       "    <tr>\n",
       "      <th>26</th>\n",
       "      <td>Repair Services</td>\n",
       "      <td>3096.118721</td>\n",
       "    </tr>\n",
       "    <tr>\n",
       "      <th>16</th>\n",
       "      <td>Food Items</td>\n",
       "      <td>3092.028657</td>\n",
       "    </tr>\n",
       "    <tr>\n",
       "      <th>22</th>\n",
       "      <td>Miscellaneous</td>\n",
       "      <td>3087.893735</td>\n",
       "    </tr>\n",
       "    <tr>\n",
       "      <th>9</th>\n",
       "      <td>Carpentery work</td>\n",
       "      <td>3030.960937</td>\n",
       "    </tr>\n",
       "    <tr>\n",
       "      <th>30</th>\n",
       "      <td>Tent Services</td>\n",
       "      <td>3016.620626</td>\n",
       "    </tr>\n",
       "    <tr>\n",
       "      <th>19</th>\n",
       "      <td>Laundry Services</td>\n",
       "      <td>2943.908893</td>\n",
       "    </tr>\n",
       "    <tr>\n",
       "      <th>14</th>\n",
       "      <td>Farming/ Agriculture</td>\n",
       "      <td>2890.558466</td>\n",
       "    </tr>\n",
       "    <tr>\n",
       "      <th>18</th>\n",
       "      <td>Jewellry Shop</td>\n",
       "      <td>2856.732319</td>\n",
       "    </tr>\n",
       "    <tr>\n",
       "      <th>7</th>\n",
       "      <td>Business Services - II</td>\n",
       "      <td>2849.200618</td>\n",
       "    </tr>\n",
       "    <tr>\n",
       "      <th>33</th>\n",
       "      <td>Transportation Services</td>\n",
       "      <td>2835.367843</td>\n",
       "    </tr>\n",
       "    <tr>\n",
       "      <th>21</th>\n",
       "      <td>Meat Businesses</td>\n",
       "      <td>2699.058683</td>\n",
       "    </tr>\n",
       "    <tr>\n",
       "      <th>4</th>\n",
       "      <td>Artifical Jewellry Selling</td>\n",
       "      <td>2692.271190</td>\n",
       "    </tr>\n",
       "    <tr>\n",
       "      <th>28</th>\n",
       "      <td>Retail Store</td>\n",
       "      <td>2662.642897</td>\n",
       "    </tr>\n",
       "    <tr>\n",
       "      <th>5</th>\n",
       "      <td>Beauty Salon</td>\n",
       "      <td>2565.295046</td>\n",
       "    </tr>\n",
       "    <tr>\n",
       "      <th>35</th>\n",
       "      <td>Utensil Selling</td>\n",
       "      <td>2515.745784</td>\n",
       "    </tr>\n",
       "    <tr>\n",
       "      <th>0</th>\n",
       "      <td>Agarbatti Business</td>\n",
       "      <td>2291.470618</td>\n",
       "    </tr>\n",
       "    <tr>\n",
       "      <th>24</th>\n",
       "      <td>Professional</td>\n",
       "      <td>1732.050808</td>\n",
       "    </tr>\n",
       "    <tr>\n",
       "      <th>8</th>\n",
       "      <td>Cable TV Services</td>\n",
       "      <td>1341.640786</td>\n",
       "    </tr>\n",
       "    <tr>\n",
       "      <th>29</th>\n",
       "      <td>Sanitation</td>\n",
       "      <td>0.000000</td>\n",
       "    </tr>\n",
       "    <tr>\n",
       "      <th>36</th>\n",
       "      <td>Vocational Loans</td>\n",
       "      <td>0.000000</td>\n",
       "    </tr>\n",
       "    <tr>\n",
       "      <th>20</th>\n",
       "      <td>Manufacturing</td>\n",
       "      <td>NaN</td>\n",
       "    </tr>\n",
       "  </tbody>\n",
       "</table>\n",
       "</div>"
      ],
      "text/plain": [
       "                       loan_purpose   loan_amount\n",
       "23                           Others  67548.546892\n",
       "32                         Training  45769.831443\n",
       "1             Agro Based Businesses  21012.116358\n",
       "3                          Apparels  20568.192202\n",
       "17                      Handicrafts  18012.291907\n",
       "25      Recycling/ Waste Management  11159.767204\n",
       "12                         Eateries   9851.145811\n",
       "10  Construction Related Activities   8376.786973\n",
       "13                   Education Loan   5169.760573\n",
       "11                       Cyber Caf_   4246.847570\n",
       "27                      Retail Sale   3808.207286\n",
       "34                   Tuition Centre   3511.884584\n",
       "31       Tobacco Related Activities   3253.841206\n",
       "2                  Animal husbandry   3235.489200\n",
       "15                  Flower Business   3221.643137\n",
       "6             Business Services - I   3195.595845\n",
       "26                  Repair Services   3096.118721\n",
       "16                       Food Items   3092.028657\n",
       "22                    Miscellaneous   3087.893735\n",
       "9                   Carpentery work   3030.960937\n",
       "30                    Tent Services   3016.620626\n",
       "19                 Laundry Services   2943.908893\n",
       "14             Farming/ Agriculture   2890.558466\n",
       "18                    Jewellry Shop   2856.732319\n",
       "7            Business Services - II   2849.200618\n",
       "33          Transportation Services   2835.367843\n",
       "21                  Meat Businesses   2699.058683\n",
       "4        Artifical Jewellry Selling   2692.271190\n",
       "28                     Retail Store   2662.642897\n",
       "5                      Beauty Salon   2565.295046\n",
       "35                  Utensil Selling   2515.745784\n",
       "0                Agarbatti Business   2291.470618\n",
       "24                     Professional   1732.050808\n",
       "8                 Cable TV Services   1341.640786\n",
       "29                       Sanitation      0.000000\n",
       "36                 Vocational Loans      0.000000\n",
       "20                    Manufacturing           NaN"
      ]
     },
     "execution_count": 74,
     "metadata": {},
     "output_type": "execute_result"
    }
   ],
   "source": [
    "df.groupby(['loan_purpose'])['loan_amount'].agg(np.std).reset_index().sort_values(by='loan_amount', ascending=False)\n"
   ]
  },
  {
   "cell_type": "code",
   "execution_count": null,
   "metadata": {},
   "outputs": [],
   "source": []
  },
  {
   "cell_type": "markdown",
   "metadata": {},
   "source": [
    "## Correlation\n"
   ]
  },
  {
   "cell_type": "code",
   "execution_count": 81,
   "metadata": {},
   "outputs": [],
   "source": [
    "corr = df.corr()\n"
   ]
  },
  {
   "cell_type": "code",
   "execution_count": 82,
   "metadata": {},
   "outputs": [
    {
     "data": {
      "text/plain": [
       "loan_amount              1.000000\n",
       "annual_income            0.085632\n",
       "loan_tenure              0.082230\n",
       "water_availabity         0.079910\n",
       "sanitary_availability    0.042241\n",
       "monthly_expenses         0.019569\n",
       "loan_installments        0.015981\n",
       "old_dependents           0.006997\n",
       "young_dependents         0.006200\n",
       "house_area               0.002874\n",
       "home_ownership           0.001939\n",
       "occupants_count         -0.000125\n",
       "age                     -0.001969\n",
       "Name: loan_amount, dtype: float64"
      ]
     },
     "execution_count": 82,
     "metadata": {},
     "output_type": "execute_result"
    }
   ],
   "source": [
    "corr['loan_amount'].sort_values(ascending=False)\n"
   ]
  },
  {
   "cell_type": "code",
   "execution_count": 84,
   "metadata": {},
   "outputs": [
    {
     "data": {
      "image/png": "[encoded data removed]",
      "text/plain": [
       "<Figure size 1080x1080 with 2 Axes>"
      ]
     },
     "metadata": {
      "needs_background": "light"
     },
     "output_type": "display_data"
    }
   ],
   "source": [
    "f, ax = plt.subplots(figsize=(15, 15))\n",
    "mask = np.zeros_like(corr, dtype=np.bool)\n",
    "mask[np.triu_indices_from(mask)] = True\n",
    "\n",
    "sns.heatmap(corr, \n",
    "            mask=mask, \n",
    "            cmap=sns.diverging_palette(220, 10, as_cmap=True), \n",
    "            square=True, \n",
    "            ax=ax, \n",
    "            vmin = -1.0, \n",
    "            vmax = 1.0, \n",
    "            linewidths=.5,\n",
    "           );\n"
   ]
  },
  {
   "cell_type": "code",
   "execution_count": null,
   "metadata": {},
   "outputs": [],
   "source": []
  },
  {
   "cell_type": "code",
   "execution_count": null,
   "metadata": {},
   "outputs": [],
   "source": []
  },
  {
   "cell_type": "markdown",
   "metadata": {},
   "source": [
    "# Data Preprocessing\n"
   ]
  },
  {
   "cell_type": "markdown",
   "metadata": {},
   "source": [
    "## Outliers\n"
   ]
  },
  {
   "cell_type": "code",
   "execution_count": null,
   "metadata": {},
   "outputs": [],
   "source": []
  },
  {
   "cell_type": "code",
   "execution_count": null,
   "metadata": {},
   "outputs": [],
   "source": []
  },
  {
   "cell_type": "markdown",
   "metadata": {},
   "source": [
    "## Missing values\n"
   ]
  },
  {
   "cell_type": "code",
   "execution_count": null,
   "metadata": {},
   "outputs": [],
   "source": []
  },
  {
   "cell_type": "code",
   "execution_count": null,
   "metadata": {},
   "outputs": [],
   "source": []
  },
  {
   "cell_type": "code",
   "execution_count": null,
   "metadata": {},
   "outputs": [],
   "source": []
  },
  {
   "cell_type": "code",
   "execution_count": null,
   "metadata": {},
   "outputs": [],
   "source": []
  },
  {
   "cell_type": "code",
   "execution_count": null,
   "metadata": {},
   "outputs": [],
   "source": []
  },
  {
   "cell_type": "code",
   "execution_count": null,
   "metadata": {},
   "outputs": [],
   "source": []
  },
  {
   "cell_type": "code",
   "execution_count": null,
   "metadata": {},
   "outputs": [],
   "source": []
  },
  {
   "cell_type": "code",
   "execution_count": null,
   "metadata": {},
   "outputs": [],
   "source": []
  },
  {
   "cell_type": "code",
   "execution_count": null,
   "metadata": {},
   "outputs": [],
   "source": []
  }
 ],
 "metadata": {
  "kernelspec": {
   "display_name": "Python 3",
   "language": "python",
   "name": "python3"
  },
  "language_info": {
   "codemirror_mode": {
    "name": "ipython",
    "version": 3
   },
   "file_extension": ".py",
   "mimetype": "text/x-python",
   "name": "python",
   "nbconvert_exporter": "python",
   "pygments_lexer": "ipython3",
   "version": "3.7.6"
  },
  "toc": {
   "base_numbering": 1,
   "nav_menu": {},
   "number_sections": true,
   "sideBar": true,
   "skip_h1_title": false,
   "title_cell": "Table of Contents",
   "title_sidebar": "Contents",
   "toc_cell": true,
   "toc_position": {
    "height": "calc(100% - 180px)",
    "left": "10px",
    "top": "150px",
    "width": "275.594px"
   },
   "toc_section_display": true,
   "toc_window_display": true
  }
 },
 "nbformat": 4,
 "nbformat_minor": 4
}
